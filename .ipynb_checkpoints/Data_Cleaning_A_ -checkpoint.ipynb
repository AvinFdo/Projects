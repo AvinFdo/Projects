{
 "cells": [
  {
   "cell_type": "code",
   "execution_count": null,
   "metadata": {
    "colab": {
     "base_uri": "https://localhost:8080/",
     "height": 141
    },
    "id": "-iKsSHUP-P8E",
    "outputId": "25730246-4261-4627-d250-518413843051"
   },
   "outputs": [
    {
     "name": "stdout",
     "output_type": "stream",
     "text": [
      "[nltk_data] Downloading package stopwords to /root/nltk_data...\n",
      "[nltk_data]   Package stopwords is already up-to-date!\n",
      "[nltk_data] Downloading package punkt to /root/nltk_data...\n",
      "[nltk_data]   Package punkt is already up-to-date!\n",
      "[nltk_data] Downloading package wordnet to /root/nltk_data...\n",
      "[nltk_data]   Package wordnet is already up-to-date!\n"
     ]
    },
    {
     "data": {
      "text/plain": [
       "True"
      ]
     },
     "execution_count": 258,
     "metadata": {
      "tags": []
     },
     "output_type": "execute_result"
    }
   ],
   "source": [
    "import pandas as pd\n",
    "import numpy as np\n",
    "import nltk \n",
    "from nltk.corpus import stopwords\n",
    "import re\n",
    "from nltk.tokenize import word_tokenize\n",
    "from nltk.stem import WordNetLemmatizer,PorterStemmer\n",
    "import matplotlib.pyplot as plt\n",
    "from sklearn.preprocessing import LabelEncoder\n",
    "from sklearn.preprocessing import MinMaxScaler\n",
    "from sklearn.model_selection import train_test_split\n",
    "from keras.models import Sequential\n",
    "from keras.layers import Dense\n",
    "from keras.layers import LSTM\n",
    "from keras.layers import Dropout, Bidirectional, Dropout\n",
    "import seaborn as sns\n",
    "\n",
    "nltk.download('stopwords')\n",
    "nltk.download('punkt')\n",
    "nltk.download('wordnet')\n"
   ]
  },
  {
   "cell_type": "code",
   "execution_count": null,
   "metadata": {
    "colab": {
     "base_uri": "https://localhost:8080/",
     "height": 551
    },
    "id": "VTeRUm4xB3V2",
    "outputId": "a96f05b2-6e23-4b73-a1c2-ab38e6ae197c"
   },
   "outputs": [
    {
     "data": {
      "text/html": [
       "<div>\n",
       "<style scoped>\n",
       "    .dataframe tbody tr th:only-of-type {\n",
       "        vertical-align: middle;\n",
       "    }\n",
       "\n",
       "    .dataframe tbody tr th {\n",
       "        vertical-align: top;\n",
       "    }\n",
       "\n",
       "    .dataframe thead th {\n",
       "        text-align: right;\n",
       "    }\n",
       "</style>\n",
       "<table border=\"1\" class=\"dataframe\">\n",
       "  <thead>\n",
       "    <tr style=\"text-align: right;\">\n",
       "      <th></th>\n",
       "      <th>Suburb</th>\n",
       "      <th>Address</th>\n",
       "      <th>Description</th>\n",
       "      <th>Price</th>\n",
       "      <th>Amenities</th>\n",
       "      <th>Type</th>\n",
       "      <th>Date</th>\n",
       "      <th>Insights</th>\n",
       "      <th>Schools</th>\n",
       "      <th>URL</th>\n",
       "      <th>Profile</th>\n",
       "      <th>Performance</th>\n",
       "    </tr>\n",
       "  </thead>\n",
       "  <tbody>\n",
       "    <tr>\n",
       "      <th>0</th>\n",
       "      <td>0</td>\n",
       "      <td>0</td>\n",
       "      <td>0</td>\n",
       "      <td>0</td>\n",
       "      <td>0</td>\n",
       "      <td>0</td>\n",
       "      <td>0</td>\n",
       "      <td>0</td>\n",
       "      <td>0</td>\n",
       "      <td>0</td>\n",
       "      <td>0</td>\n",
       "      <td>0</td>\n",
       "    </tr>\n",
       "    <tr>\n",
       "      <th>1</th>\n",
       "      <td>Abbotsford-vic-3067</td>\n",
       "      <td>NaN</td>\n",
       "      <td>Stylish living, spectacular views\\nEnviable vi...</td>\n",
       "      <td>SOLD - $610,000</td>\n",
       "      <td>2\\nBeds\\n2\\nBaths\\n1\\nParking</td>\n",
       "      <td>Apartment / Unit / Flat</td>\n",
       "      <td>Listing sold by advertiser 10th August 2020</td>\n",
       "      <td>First listed on 20 July, this unit has been on...</td>\n",
       "      <td>ALL\\nPRIMARY\\nSECONDARY\\nPRIVATE\\nGOVERNMENT S...</td>\n",
       "      <td>https://www.domain.com.au/627-20-shamrock-stre...</td>\n",
       "      <td>Building &amp; Street Profiles\\nBUILDING\\nSTREET\\n...</td>\n",
       "      <td>Insights for 2 bedroom units in Abbotsford\\nMa...</td>\n",
       "    </tr>\n",
       "    <tr>\n",
       "      <th>2</th>\n",
       "      <td>Abbotsford-vic-3067</td>\n",
       "      <td>NaN</td>\n",
       "      <td>A charming Victorian relishes its new role\\nPe...</td>\n",
       "      <td>SOLD - Price Withheld</td>\n",
       "      <td>3\\nBeds\\n1\\nBath\\n−</td>\n",
       "      <td>House</td>\n",
       "      <td>Listing sold by advertiser 7th August 2020</td>\n",
       "      <td>71 Yarra Street, Abbotsford VIC 3067 was last ...</td>\n",
       "      <td>ALL\\nPRIMARY\\nSECONDARY\\nPRIVATE\\nGOVERNMENT S...</td>\n",
       "      <td>https://www.domain.com.au/71-yarra-street-abbo...</td>\n",
       "      <td>School Catchment Zones for 71 Yarra Street\\nAL...</td>\n",
       "      <td>Insights for 3 bedroom houses in Abbotsford\\nM...</td>\n",
       "    </tr>\n",
       "    <tr>\n",
       "      <th>3</th>\n",
       "      <td>Abbotsford-vic-3067</td>\n",
       "      <td>71 Yarra Street Abbotsford VIC 3067</td>\n",
       "      <td>A charming Victorian relishes its new role\\nPe...</td>\n",
       "      <td>SOLD - Price Withheld</td>\n",
       "      <td>3\\nBeds\\n1\\nBath\\n−</td>\n",
       "      <td>House</td>\n",
       "      <td>Listing sold by advertiser 7th August 2020</td>\n",
       "      <td>71 Yarra Street, Abbotsford VIC 3067 was last ...</td>\n",
       "      <td>ALL\\nPRIMARY\\nSECONDARY\\nPRIVATE\\nGOVERNMENT S...</td>\n",
       "      <td>https://www.domain.com.au/71-yarra-street-abbo...</td>\n",
       "      <td>Street Profile\\nYarra St, \\nAbbotsford VIC 306...</td>\n",
       "      <td>Insights for 3 bedroom houses in Abbotsford\\nM...</td>\n",
       "    </tr>\n",
       "    <tr>\n",
       "      <th>4</th>\n",
       "      <td>Abbotsford-vic-3067</td>\n",
       "      <td>411/4 Acacia Place Abbotsford VIC 3067</td>\n",
       "      <td>BEST VALUE IN ABBOTSFORD PRICED TO SELL\\nPerfe...</td>\n",
       "      <td>SOLD - Price Withheld</td>\n",
       "      <td>1\\nBed\\n1\\nBath\\n1\\nParking</td>\n",
       "      <td>Apartment / Unit / Flat</td>\n",
       "      <td>Listing sold by advertiser 6th August 2020</td>\n",
       "      <td>39 other 1 bedroom unit in Abbotsford have rec...</td>\n",
       "      <td>ALL\\nPRIMARY\\nSECONDARY\\nPRIVATE\\nGOVERNMENT S...</td>\n",
       "      <td>https://www.domain.com.au/411-4-acacia-place-a...</td>\n",
       "      <td>Building &amp; Street Profiles\\nBUILDING\\nSTREET\\n...</td>\n",
       "      <td>Insights for 1 bedroom units in Abbotsford\\nMa...</td>\n",
       "    </tr>\n",
       "  </tbody>\n",
       "</table>\n",
       "</div>"
      ],
      "text/plain": [
       "                Suburb  ...                                        Performance\n",
       "0                    0  ...                                                  0\n",
       "1  Abbotsford-vic-3067  ...  Insights for 2 bedroom units in Abbotsford\\nMa...\n",
       "2  Abbotsford-vic-3067  ...  Insights for 3 bedroom houses in Abbotsford\\nM...\n",
       "3  Abbotsford-vic-3067  ...  Insights for 3 bedroom houses in Abbotsford\\nM...\n",
       "4  Abbotsford-vic-3067  ...  Insights for 1 bedroom units in Abbotsford\\nMa...\n",
       "\n",
       "[5 rows x 12 columns]"
      ]
     },
     "execution_count": 259,
     "metadata": {
      "tags": []
     },
     "output_type": "execute_result"
    }
   ],
   "source": [
    "#Load the data csv from google drive\n",
    "house_data = pd.read_csv('/content/drive/My Drive/databackup.csv')\n",
    "house_data.head()"
   ]
  },
  {
   "cell_type": "code",
   "execution_count": null,
   "metadata": {
    "colab": {
     "base_uri": "https://localhost:8080/",
     "height": 354
    },
    "id": "QXd4QD8YLRhn",
    "outputId": "82bab818-9a8a-41c9-ecef-5bc0c65ddcad"
   },
   "outputs": [
    {
     "name": "stdout",
     "output_type": "stream",
     "text": [
      "<class 'pandas.core.frame.DataFrame'>\n",
      "RangeIndex: 2101 entries, 0 to 2100\n",
      "Data columns (total 12 columns):\n",
      " #   Column       Non-Null Count  Dtype \n",
      "---  ------       --------------  ----- \n",
      " 0   Suburb       2101 non-null   object\n",
      " 1   Address      1406 non-null   object\n",
      " 2   Description  2101 non-null   object\n",
      " 3   Price        2101 non-null   object\n",
      " 4   Amenities    2099 non-null   object\n",
      " 5   Type         2101 non-null   object\n",
      " 6   Date         2101 non-null   object\n",
      " 7   Insights     2101 non-null   object\n",
      " 8   Schools      2101 non-null   object\n",
      " 9   URL          2101 non-null   object\n",
      " 10  Profile      1910 non-null   object\n",
      " 11  Performance  2101 non-null   object\n",
      "dtypes: object(12)\n",
      "memory usage: 197.1+ KB\n"
     ]
    }
   ],
   "source": [
    "#Print the datatypes \n",
    "house_data.info()\n",
    "\n",
    "#All variables are string and there are 11 variables"
   ]
  },
  {
   "cell_type": "code",
   "execution_count": null,
   "metadata": {
    "id": "r0yp9Y1YLX5g"
   },
   "outputs": [],
   "source": [
    "#Drop the rows with nulls\n",
    "house_data = house_data.dropna() \n",
    "house_data = house_data.iloc[1:] #removing the 1st row of the dataframe as it does not have any data"
   ]
  },
  {
   "cell_type": "markdown",
   "metadata": {
    "id": "bk5IuyM2CWLz"
   },
   "source": [
    "Tidying up\n",
    "\n",
    "\n",
    "The response variable is house price.\n",
    "The predictors can be multiple, including the suburb, amenities, description, type, schools.."
   ]
  },
  {
   "cell_type": "code",
   "execution_count": null,
   "metadata": {
    "colab": {
     "base_uri": "https://localhost:8080/",
     "height": 573
    },
    "id": "9YYZBytiJssO",
    "outputId": "75820579-be99-43eb-8945-73b2d41c016e"
   },
   "outputs": [
    {
     "data": {
      "text/html": [
       "<div>\n",
       "<style scoped>\n",
       "    .dataframe tbody tr th:only-of-type {\n",
       "        vertical-align: middle;\n",
       "    }\n",
       "\n",
       "    .dataframe tbody tr th {\n",
       "        vertical-align: top;\n",
       "    }\n",
       "\n",
       "    .dataframe thead th {\n",
       "        text-align: right;\n",
       "    }\n",
       "</style>\n",
       "<table border=\"1\" class=\"dataframe\">\n",
       "  <thead>\n",
       "    <tr style=\"text-align: right;\">\n",
       "      <th></th>\n",
       "      <th>Suburb</th>\n",
       "      <th>Profile</th>\n",
       "      <th>Amenities</th>\n",
       "      <th>Type</th>\n",
       "      <th>Address</th>\n",
       "    </tr>\n",
       "  </thead>\n",
       "  <tbody>\n",
       "    <tr>\n",
       "      <th>3</th>\n",
       "      <td>Abbotsford-vic-3067</td>\n",
       "      <td>Street Profile\\nYarra St, \\nAbbotsford VIC 306...</td>\n",
       "      <td>3\\nBeds\\n1\\nBath\\n−</td>\n",
       "      <td>House</td>\n",
       "      <td>71 Yarra Street Abbotsford VIC 3067</td>\n",
       "    </tr>\n",
       "    <tr>\n",
       "      <th>4</th>\n",
       "      <td>Abbotsford-vic-3067</td>\n",
       "      <td>Building &amp; Street Profiles\\nBUILDING\\nSTREET\\n...</td>\n",
       "      <td>1\\nBed\\n1\\nBath\\n1\\nParking</td>\n",
       "      <td>Apartment / Unit / Flat</td>\n",
       "      <td>411/4 Acacia Place Abbotsford VIC 3067</td>\n",
       "    </tr>\n",
       "    <tr>\n",
       "      <th>5</th>\n",
       "      <td>Abbotsford-vic-3067</td>\n",
       "      <td>Street Profile\\nCharles St, \\nAbbotsford VIC 3...</td>\n",
       "      <td>3\\nBeds\\n1\\nBath\\n−</td>\n",
       "      <td>House</td>\n",
       "      <td>156 Charles Street Abbotsford VIC 3067</td>\n",
       "    </tr>\n",
       "    <tr>\n",
       "      <th>6</th>\n",
       "      <td>Abbotsford-vic-3067</td>\n",
       "      <td>Building &amp; Street Profiles\\nBUILDING\\nSTREET\\n...</td>\n",
       "      <td>2\\nBeds\\n2\\nBaths\\n2\\nParking</td>\n",
       "      <td>Apartment / Unit / Flat</td>\n",
       "      <td>1003/20 Shamrock Street Abbotsford VIC 3067</td>\n",
       "    </tr>\n",
       "    <tr>\n",
       "      <th>7</th>\n",
       "      <td>Abbotsford-vic-3067</td>\n",
       "      <td>Street Profile\\nMarine Pde, \\nAbbotsford VIC 3...</td>\n",
       "      <td>3\\nBeds\\n1\\nBath\\n2\\nParking</td>\n",
       "      <td>House</td>\n",
       "      <td>46 Marine Parade Abbotsford VIC 3067</td>\n",
       "    </tr>\n",
       "    <tr>\n",
       "      <th>...</th>\n",
       "      <td>...</td>\n",
       "      <td>...</td>\n",
       "      <td>...</td>\n",
       "      <td>...</td>\n",
       "      <td>...</td>\n",
       "    </tr>\n",
       "    <tr>\n",
       "      <th>2096</th>\n",
       "      <td>Airport West-vic-3042</td>\n",
       "      <td>Street Profile\\nVictory Rd, \\nAirport West VIC...</td>\n",
       "      <td>3\\nBeds\\n2\\nBaths\\n1\\nParking\\n419m²</td>\n",
       "      <td>House</td>\n",
       "      <td>154 Victory Road Airport West VIC 3042</td>\n",
       "    </tr>\n",
       "    <tr>\n",
       "      <th>2097</th>\n",
       "      <td>Airport West-vic-3042</td>\n",
       "      <td>Street Profile\\nMarshall Rd, \\nAirport West VI...</td>\n",
       "      <td>4\\nBeds\\n1\\nBath\\n2\\nParking</td>\n",
       "      <td>House</td>\n",
       "      <td>45 Marshall Road Airport West VIC 3042</td>\n",
       "    </tr>\n",
       "    <tr>\n",
       "      <th>2098</th>\n",
       "      <td>Airport West-vic-3042</td>\n",
       "      <td>Street Profile\\nClydesdale Rd, \\nAirport West ...</td>\n",
       "      <td>3\\nBeds\\n2\\nBaths\\n2\\nParking</td>\n",
       "      <td>Townhouse</td>\n",
       "      <td>3 Clydesdale Road Airport West VIC 3042</td>\n",
       "    </tr>\n",
       "    <tr>\n",
       "      <th>2099</th>\n",
       "      <td>Airport West-vic-3042</td>\n",
       "      <td>Building &amp; Street Profiles\\nBUILDING\\nSTREET\\n...</td>\n",
       "      <td>2\\nBeds\\n2\\nBaths\\n1\\nParking</td>\n",
       "      <td>Apartment / Unit / Flat</td>\n",
       "      <td>4/4 Kitson Crescent Airport West VIC 3042</td>\n",
       "    </tr>\n",
       "    <tr>\n",
       "      <th>2100</th>\n",
       "      <td>Airport West-vic-3042</td>\n",
       "      <td>Street Profile\\nThomas St, \\nAirport West VIC ...</td>\n",
       "      <td>3\\nBeds\\n2\\nBaths\\n1\\nParking\\n590m²</td>\n",
       "      <td>House</td>\n",
       "      <td>19 Thomas Street Airport West VIC 3042</td>\n",
       "    </tr>\n",
       "  </tbody>\n",
       "</table>\n",
       "<p>1213 rows × 5 columns</p>\n",
       "</div>"
      ],
      "text/plain": [
       "                     Suburb  ...                                      Address\n",
       "3       Abbotsford-vic-3067  ...          71 Yarra Street Abbotsford VIC 3067\n",
       "4       Abbotsford-vic-3067  ...       411/4 Acacia Place Abbotsford VIC 3067\n",
       "5       Abbotsford-vic-3067  ...       156 Charles Street Abbotsford VIC 3067\n",
       "6       Abbotsford-vic-3067  ...  1003/20 Shamrock Street Abbotsford VIC 3067\n",
       "7       Abbotsford-vic-3067  ...         46 Marine Parade Abbotsford VIC 3067\n",
       "...                     ...  ...                                          ...\n",
       "2096  Airport West-vic-3042  ...       154 Victory Road Airport West VIC 3042\n",
       "2097  Airport West-vic-3042  ...       45 Marshall Road Airport West VIC 3042\n",
       "2098  Airport West-vic-3042  ...      3 Clydesdale Road Airport West VIC 3042\n",
       "2099  Airport West-vic-3042  ...    4/4 Kitson Crescent Airport West VIC 3042\n",
       "2100  Airport West-vic-3042  ...       19 Thomas Street Airport West VIC 3042\n",
       "\n",
       "[1213 rows x 5 columns]"
      ]
     },
     "execution_count": 262,
     "metadata": {
      "tags": []
     },
     "output_type": "execute_result"
    }
   ],
   "source": [
    "#I select the potential independent variables as features\n",
    "features_col = ['Suburb', 'Profile', 'Amenities', 'Type','Address']\n",
    "house_data[features_col]"
   ]
  },
  {
   "cell_type": "code",
   "execution_count": null,
   "metadata": {
    "id": "6IjkPgWKCVWj"
   },
   "outputs": [],
   "source": [
    "#Clean the features by removing the stopwords, regular expressions and replace with a space\n",
    "REPLACE_BY_SPACE_RE = re.compile('[/(){}\\[\\]\\|@,;]')\n",
    "BAD_SYMBOLS_RE = re.compile('[^0-9a-z #+_]')\n",
    "STOPWORDS = set(stopwords.words('english'))\n",
    "\n",
    "def clean_text(text):\n",
    "    text = text.lower() # lowercase text\n",
    "    text = REPLACE_BY_SPACE_RE.sub(' ', text) # replace REPLACE_BY_SPACE_RE symbols by space in text. substitute the matched string in REPLACE_BY_SPACE_RE with space.\n",
    "    text = BAD_SYMBOLS_RE.sub(' ', text) # remove symbols which are in BAD_SYMBOLS_RE from text. substitute the matched string in BAD_SYMBOLS_RE with nothing. \n",
    "    text = text.replace('x', ' ')\n",
    "    text = ' '.join(word for word in text.split() if word not in STOPWORDS)\n",
    "    return text\n",
    "\n",
    "#Applying the clean_text() to features\n",
    "#house_data['Schools'] = house_data['Schools'].apply(clean_text)\n",
    "house_data['Profile'] = house_data['Profile'].apply(clean_text)\n",
    "house_data['Amenities'] = house_data['Amenities'].apply(clean_text)\n",
    "house_data['Type'] = house_data['Type'].apply(clean_text)\n",
    "house_data['Suburb'] = house_data['Suburb'].apply(clean_text)"
   ]
  },
  {
   "cell_type": "code",
   "execution_count": null,
   "metadata": {
    "id": "gvMixb4H4Azd"
   },
   "outputs": [],
   "source": [
    "#Further cleaning of the column 'Suburb'\n",
    "#We will remove the vic - postcode and preserve only the suburb's name\n",
    "def clean_sub(text):\n",
    "  text = text.replace('vic','')\n",
    "  return text\n",
    "\n",
    "\n",
    "house_data['Suburb'] = house_data['Suburb'].apply(clean_sub)\n",
    "house_data['Suburb'] = house_data['Suburb'].str.replace('\\d+', '')"
   ]
  },
  {
   "cell_type": "code",
   "execution_count": null,
   "metadata": {
    "id": "P5duB5xBmeV0"
   },
   "outputs": [],
   "source": [
    "#Cleaning the house price data and converting to a numeric column\n",
    "def remove(text):\n",
    "  text = text.replace('SOLD -','')\n",
    "  text = text.replace('Price Withheld','0')\n",
    "  text = text.replace('$','')\n",
    "  text = text.replace(',','')\n",
    "  return text\n",
    "\n",
    "house_data['Price'] = house_data['Price'].apply(remove)\n",
    "house_data['Price'] = pd.to_numeric(house_data['Price'])\n",
    "house_data = house_data[house_data['Price'] > 0]"
   ]
  },
  {
   "cell_type": "code",
   "execution_count": null,
   "metadata": {
    "colab": {
     "base_uri": "https://localhost:8080/",
     "height": 330
    },
    "id": "0YHR-qpNo-nU",
    "outputId": "1506291f-a264-4479-d965-4c5cf7f3dcf0"
   },
   "outputs": [
    {
     "data": {
      "text/plain": [
       "array([[<matplotlib.axes._subplots.AxesSubplot object at 0x7f606b4adc88>]],\n",
       "      dtype=object)"
      ]
     },
     "execution_count": 266,
     "metadata": {
      "tags": []
     },
     "output_type": "execute_result"
    },
    {
     "data": {
      "image/png": "[encoded data removed]",
      "text/plain": [
       "<Figure size 432x288 with 1 Axes>"
      ]
     },
     "metadata": {
      "needs_background": "light",
      "tags": []
     },
     "output_type": "display_data"
    }
   ],
   "source": [
    "#Plot of histogram for the house price is skewed\n",
    "house_data.hist(column='Price')"
   ]
  },
  {
   "cell_type": "code",
   "execution_count": null,
   "metadata": {
    "colab": {
     "base_uri": "https://localhost:8080/",
     "height": 53
    },
    "id": "VcROrh7Ip2J2",
    "outputId": "1dca6eeb-cc5e-4a0f-b7a9-1bb25ed825c9"
   },
   "outputs": [
    {
     "data": {
      "application/vnd.google.colaboratory.intrinsic+json": {
       "type": "string"
      },
      "text/plain": [
       "\"\\n#Median price of the houses\\nmedian_price = house_data.median()\\nprint(median_price)\\n#Replace the null values of house price data with the median figure\\nhouse_data=house_data.replace({'Price': {0: 775000.0}})\\nhouse_data['Price']\\n\""
      ]
     },
     "execution_count": 267,
     "metadata": {
      "tags": []
     },
     "output_type": "execute_result"
    }
   ],
   "source": [
    "'''\n",
    "#Median price of the houses\n",
    "median_price = house_data.median()\n",
    "print(median_price)\n",
    "#Replace the null values of house price data with the median figure\n",
    "house_data=house_data.replace({'Price': {0: 775000.0}})\n",
    "house_data['Price']\n",
    "'''"
   ]
  },
  {
   "cell_type": "code",
   "execution_count": null,
   "metadata": {
    "colab": {
     "base_uri": "https://localhost:8080/",
     "height": 406
    },
    "id": "bP9ZmqbQ6uWy",
    "outputId": "d20c8618-45b8-4c7c-8017-ea3be16623dd"
   },
   "outputs": [
    {
     "data": {
      "text/html": [
       "<div>\n",
       "<style scoped>\n",
       "    .dataframe tbody tr th:only-of-type {\n",
       "        vertical-align: middle;\n",
       "    }\n",
       "\n",
       "    .dataframe tbody tr th {\n",
       "        vertical-align: top;\n",
       "    }\n",
       "\n",
       "    .dataframe thead th {\n",
       "        text-align: right;\n",
       "    }\n",
       "</style>\n",
       "<table border=\"1\" class=\"dataframe\">\n",
       "  <thead>\n",
       "    <tr style=\"text-align: right;\">\n",
       "      <th></th>\n",
       "      <th>Suburb</th>\n",
       "      <th>Profile</th>\n",
       "      <th>Amenities</th>\n",
       "      <th>Type</th>\n",
       "      <th>Address</th>\n",
       "    </tr>\n",
       "  </thead>\n",
       "  <tbody>\n",
       "    <tr>\n",
       "      <th>5</th>\n",
       "      <td>abbotsford</td>\n",
       "      <td>street profile charles st abbotsford vic 3067 ...</td>\n",
       "      <td>3 beds 1 bath</td>\n",
       "      <td>house</td>\n",
       "      <td>156 Charles Street Abbotsford VIC 3067</td>\n",
       "    </tr>\n",
       "    <tr>\n",
       "      <th>7</th>\n",
       "      <td>abbotsford</td>\n",
       "      <td>street profile marine pde abbotsford vic 3067 ...</td>\n",
       "      <td>3 beds 1 bath 2 parking</td>\n",
       "      <td>house</td>\n",
       "      <td>46 Marine Parade Abbotsford VIC 3067</td>\n",
       "    </tr>\n",
       "    <tr>\n",
       "      <th>8</th>\n",
       "      <td>abbotsford</td>\n",
       "      <td>building street profiles building street 88 tr...</td>\n",
       "      <td>2 beds 2 baths 1 parking</td>\n",
       "      <td>apartment unit flat</td>\n",
       "      <td>509/88 Trenerry Crescent Abbotsford VIC 3067</td>\n",
       "    </tr>\n",
       "    <tr>\n",
       "      <th>10</th>\n",
       "      <td>abbotsford</td>\n",
       "      <td>building street profiles building street 8 gro...</td>\n",
       "      <td>2 beds 1 bath 1 parking</td>\n",
       "      <td>apartment unit flat</td>\n",
       "      <td>220/8 Grosvenor Street Abbotsford VIC 3067</td>\n",
       "    </tr>\n",
       "    <tr>\n",
       "      <th>11</th>\n",
       "      <td>abbotsford</td>\n",
       "      <td>building street profiles building street 11 ni...</td>\n",
       "      <td>3 beds 2 baths 2 parking</td>\n",
       "      <td>townhouse</td>\n",
       "      <td>27/11 Nicholson Street Abbotsford VIC 3067</td>\n",
       "    </tr>\n",
       "    <tr>\n",
       "      <th>...</th>\n",
       "      <td>...</td>\n",
       "      <td>...</td>\n",
       "      <td>...</td>\n",
       "      <td>...</td>\n",
       "      <td>...</td>\n",
       "    </tr>\n",
       "    <tr>\n",
       "      <th>2096</th>\n",
       "      <td>airport west</td>\n",
       "      <td>street profile victory rd airport west vic 304...</td>\n",
       "      <td>3 beds 2 baths 1 parking 419m</td>\n",
       "      <td>house</td>\n",
       "      <td>154 Victory Road Airport West VIC 3042</td>\n",
       "    </tr>\n",
       "    <tr>\n",
       "      <th>2097</th>\n",
       "      <td>airport west</td>\n",
       "      <td>street profile marshall rd airport west vic 30...</td>\n",
       "      <td>4 beds 1 bath 2 parking</td>\n",
       "      <td>house</td>\n",
       "      <td>45 Marshall Road Airport West VIC 3042</td>\n",
       "    </tr>\n",
       "    <tr>\n",
       "      <th>2098</th>\n",
       "      <td>airport west</td>\n",
       "      <td>street profile clydesdale rd airport west vic ...</td>\n",
       "      <td>3 beds 2 baths 2 parking</td>\n",
       "      <td>townhouse</td>\n",
       "      <td>3 Clydesdale Road Airport West VIC 3042</td>\n",
       "    </tr>\n",
       "    <tr>\n",
       "      <th>2099</th>\n",
       "      <td>airport west</td>\n",
       "      <td>building street profiles building street 4 kit...</td>\n",
       "      <td>2 beds 2 baths 1 parking</td>\n",
       "      <td>apartment unit flat</td>\n",
       "      <td>4/4 Kitson Crescent Airport West VIC 3042</td>\n",
       "    </tr>\n",
       "    <tr>\n",
       "      <th>2100</th>\n",
       "      <td>airport west</td>\n",
       "      <td>street profile thomas st airport west vic 3042...</td>\n",
       "      <td>3 beds 2 baths 1 parking 590m</td>\n",
       "      <td>house</td>\n",
       "      <td>19 Thomas Street Airport West VIC 3042</td>\n",
       "    </tr>\n",
       "  </tbody>\n",
       "</table>\n",
       "<p>1115 rows × 5 columns</p>\n",
       "</div>"
      ],
      "text/plain": [
       "              Suburb  ...                                       Address\n",
       "5       abbotsford    ...        156 Charles Street Abbotsford VIC 3067\n",
       "7       abbotsford    ...          46 Marine Parade Abbotsford VIC 3067\n",
       "8       abbotsford    ...  509/88 Trenerry Crescent Abbotsford VIC 3067\n",
       "10      abbotsford    ...    220/8 Grosvenor Street Abbotsford VIC 3067\n",
       "11      abbotsford    ...    27/11 Nicholson Street Abbotsford VIC 3067\n",
       "...              ...  ...                                           ...\n",
       "2096  airport west    ...        154 Victory Road Airport West VIC 3042\n",
       "2097  airport west    ...        45 Marshall Road Airport West VIC 3042\n",
       "2098  airport west    ...       3 Clydesdale Road Airport West VIC 3042\n",
       "2099  airport west    ...     4/4 Kitson Crescent Airport West VIC 3042\n",
       "2100  airport west    ...        19 Thomas Street Airport West VIC 3042\n",
       "\n",
       "[1115 rows x 5 columns]"
      ]
     },
     "execution_count": 268,
     "metadata": {
      "tags": []
     },
     "output_type": "execute_result"
    }
   ],
   "source": [
    "house_data[features_col]"
   ]
  },
  {
   "cell_type": "code",
   "execution_count": null,
   "metadata": {
    "id": "Lp0OH4URDrw6"
   },
   "outputs": [],
   "source": [
    "#Remove the vacant land\n",
    "house_data = house_data[house_data['Type'] != 'vacant land']"
   ]
  },
  {
   "cell_type": "markdown",
   "metadata": {
    "id": "CB09si1Cst8E"
   },
   "source": [
    "Explaratory Data Analysis"
   ]
  },
  {
   "cell_type": "code",
   "execution_count": null,
   "metadata": {
    "colab": {
     "base_uri": "https://localhost:8080/",
     "height": 422
    },
    "id": "G6jqopasMYVu",
    "outputId": "bb54a586-a9d9-4e39-d05d-d1f32e951c2f"
   },
   "outputs": [
    {
     "name": "stdout",
     "output_type": "stream",
     "text": [
      "['house' 'apartment unit flat' 'townhouse' 'new apartments plan' 'villa']\n"
     ]
    },
    {
     "data": {
      "text/plain": [
       "<matplotlib.axes._subplots.AxesSubplot at 0x7f606b417ba8>"
      ]
     },
     "execution_count": 270,
     "metadata": {
      "tags": []
     },
     "output_type": "execute_result"
    },
    {
     "data": {
      "image/png": "[encoded data removed]",
      "text/plain": [
       "<Figure size 432x288 with 1 Axes>"
      ]
     },
     "metadata": {
      "needs_background": "light",
      "tags": []
     },
     "output_type": "display_data"
    }
   ],
   "source": [
    "#Plotting house price against the type of house\n",
    "print(house_data['Type'].unique())\n",
    "df = house_data.groupby('Type')['Price'].mean()\n",
    "df.plot.bar()"
   ]
  },
  {
   "cell_type": "code",
   "execution_count": null,
   "metadata": {
    "colab": {
     "base_uri": "https://localhost:8080/",
     "height": 363
    },
    "id": "tKOzNE2d7DeA",
    "outputId": "d7bd15c1-ba90-4cba-9467-62d58ce9c2ec"
   },
   "outputs": [
    {
     "data": {
      "text/plain": [
       "<matplotlib.axes._subplots.AxesSubplot at 0x7f606b4ad0f0>"
      ]
     },
     "execution_count": 271,
     "metadata": {
      "tags": []
     },
     "output_type": "execute_result"
    },
    {
     "data": {
      "image/png": "[encoded data removed]",
      "text/plain": [
       "<Figure size 432x288 with 1 Axes>"
      ]
     },
     "metadata": {
      "needs_background": "light",
      "tags": []
     },
     "output_type": "display_data"
    }
   ],
   "source": [
    "#PLotting house price against the suburb name\n",
    "df = house_data.groupby('Suburb')['Price'].mean()\n",
    "df.plot.bar()"
   ]
  },
  {
   "cell_type": "markdown",
   "metadata": {
    "id": "P5T4iLFotK0t"
   },
   "source": [
    "Feature Extracting"
   ]
  },
  {
   "cell_type": "markdown",
   "metadata": {
    "id": "pYVu8e_n6oeW"
   },
   "source": [
    "Extracting the number of beds/baths and parking from Amenities"
   ]
  },
  {
   "cell_type": "code",
   "execution_count": null,
   "metadata": {
    "colab": {
     "base_uri": "https://localhost:8080/",
     "height": 35
    },
    "id": "EcSd-Y_SNOD5",
    "outputId": "f75b77d5-2ef1-485d-903f-c14c82e7ac87"
   },
   "outputs": [
    {
     "data": {
      "application/vnd.google.colaboratory.intrinsic+json": {
       "type": "string"
      },
      "text/plain": [
       "'3 beds 2 baths 1 parking 419m'"
      ]
     },
     "execution_count": 272,
     "metadata": {
      "tags": []
     },
     "output_type": "execute_result"
    }
   ],
   "source": [
    "house_data.Amenities[2096] "
   ]
  },
  {
   "cell_type": "code",
   "execution_count": null,
   "metadata": {
    "id": "kROqUUdJC8s4"
   },
   "outputs": [],
   "source": [
    "#extracting the number of baths/beds/parkings and storing them as seperate columns \n",
    "regex = r'(?P<beds>\\d)\\sbeds?\\s(?P<bath>\\d+)\\sbaths?\\s?(?P<parking>\\d)?'\n",
    "house_data = pd.concat([house_data, house_data['Amenities'].str.extract(regex)], axis=1)"
   ]
  },
  {
   "cell_type": "code",
   "execution_count": null,
   "metadata": {
    "id": "nK2sLlJbDMuf"
   },
   "outputs": [],
   "source": [
    "#Fill the null values in the parking column == 0\n",
    "house_data['parking'] = house_data['parking'].fillna(0)\n",
    "house_data['beds'] = house_data['beds'].fillna(0)\n",
    "house_data['bath'] = house_data['bath'].fillna(0)"
   ]
  },
  {
   "cell_type": "code",
   "execution_count": null,
   "metadata": {
    "colab": {
     "base_uri": "https://localhost:8080/",
     "height": 406
    },
    "id": "ZE39IDaiLV0g",
    "outputId": "2086a297-d3cd-4c45-be98-359ba520b5d6"
   },
   "outputs": [
    {
     "data": {
      "text/html": [
       "<div>\n",
       "<style scoped>\n",
       "    .dataframe tbody tr th:only-of-type {\n",
       "        vertical-align: middle;\n",
       "    }\n",
       "\n",
       "    .dataframe tbody tr th {\n",
       "        vertical-align: top;\n",
       "    }\n",
       "\n",
       "    .dataframe thead th {\n",
       "        text-align: right;\n",
       "    }\n",
       "</style>\n",
       "<table border=\"1\" class=\"dataframe\">\n",
       "  <thead>\n",
       "    <tr style=\"text-align: right;\">\n",
       "      <th></th>\n",
       "      <th>Suburb</th>\n",
       "      <th>Type</th>\n",
       "      <th>beds</th>\n",
       "      <th>bath</th>\n",
       "      <th>parking</th>\n",
       "    </tr>\n",
       "  </thead>\n",
       "  <tbody>\n",
       "    <tr>\n",
       "      <th>5</th>\n",
       "      <td>abbotsford</td>\n",
       "      <td>house</td>\n",
       "      <td>3</td>\n",
       "      <td>1</td>\n",
       "      <td>0</td>\n",
       "    </tr>\n",
       "    <tr>\n",
       "      <th>7</th>\n",
       "      <td>abbotsford</td>\n",
       "      <td>house</td>\n",
       "      <td>3</td>\n",
       "      <td>1</td>\n",
       "      <td>2</td>\n",
       "    </tr>\n",
       "    <tr>\n",
       "      <th>8</th>\n",
       "      <td>abbotsford</td>\n",
       "      <td>apartment unit flat</td>\n",
       "      <td>2</td>\n",
       "      <td>2</td>\n",
       "      <td>1</td>\n",
       "    </tr>\n",
       "    <tr>\n",
       "      <th>10</th>\n",
       "      <td>abbotsford</td>\n",
       "      <td>apartment unit flat</td>\n",
       "      <td>2</td>\n",
       "      <td>1</td>\n",
       "      <td>1</td>\n",
       "    </tr>\n",
       "    <tr>\n",
       "      <th>11</th>\n",
       "      <td>abbotsford</td>\n",
       "      <td>townhouse</td>\n",
       "      <td>3</td>\n",
       "      <td>2</td>\n",
       "      <td>2</td>\n",
       "    </tr>\n",
       "    <tr>\n",
       "      <th>...</th>\n",
       "      <td>...</td>\n",
       "      <td>...</td>\n",
       "      <td>...</td>\n",
       "      <td>...</td>\n",
       "      <td>...</td>\n",
       "    </tr>\n",
       "    <tr>\n",
       "      <th>2096</th>\n",
       "      <td>airport west</td>\n",
       "      <td>house</td>\n",
       "      <td>3</td>\n",
       "      <td>2</td>\n",
       "      <td>1</td>\n",
       "    </tr>\n",
       "    <tr>\n",
       "      <th>2097</th>\n",
       "      <td>airport west</td>\n",
       "      <td>house</td>\n",
       "      <td>4</td>\n",
       "      <td>1</td>\n",
       "      <td>2</td>\n",
       "    </tr>\n",
       "    <tr>\n",
       "      <th>2098</th>\n",
       "      <td>airport west</td>\n",
       "      <td>townhouse</td>\n",
       "      <td>3</td>\n",
       "      <td>2</td>\n",
       "      <td>2</td>\n",
       "    </tr>\n",
       "    <tr>\n",
       "      <th>2099</th>\n",
       "      <td>airport west</td>\n",
       "      <td>apartment unit flat</td>\n",
       "      <td>2</td>\n",
       "      <td>2</td>\n",
       "      <td>1</td>\n",
       "    </tr>\n",
       "    <tr>\n",
       "      <th>2100</th>\n",
       "      <td>airport west</td>\n",
       "      <td>house</td>\n",
       "      <td>3</td>\n",
       "      <td>2</td>\n",
       "      <td>1</td>\n",
       "    </tr>\n",
       "  </tbody>\n",
       "</table>\n",
       "<p>1104 rows × 5 columns</p>\n",
       "</div>"
      ],
      "text/plain": [
       "              Suburb                 Type beds bath parking\n",
       "5       abbotsford                  house    3    1       0\n",
       "7       abbotsford                  house    3    1       2\n",
       "8       abbotsford    apartment unit flat    2    2       1\n",
       "10      abbotsford    apartment unit flat    2    1       1\n",
       "11      abbotsford              townhouse    3    2       2\n",
       "...              ...                  ...  ...  ...     ...\n",
       "2096  airport west                  house    3    2       1\n",
       "2097  airport west                  house    4    1       2\n",
       "2098  airport west              townhouse    3    2       2\n",
       "2099  airport west    apartment unit flat    2    2       1\n",
       "2100  airport west                  house    3    2       1\n",
       "\n",
       "[1104 rows x 5 columns]"
      ]
     },
     "execution_count": 275,
     "metadata": {
      "tags": []
     },
     "output_type": "execute_result"
    }
   ],
   "source": [
    "features_col = ['Suburb', 'Type', 'beds', 'bath', 'parking']\n",
    "house_data[features_col]"
   ]
  },
  {
   "cell_type": "code",
   "execution_count": null,
   "metadata": {
    "colab": {
     "base_uri": "https://localhost:8080/",
     "height": 34
    },
    "id": "Mfvg7Y5HoLXf",
    "outputId": "43d87e74-506b-4df2-f329-f336bba0f1e4"
   },
   "outputs": [
    {
     "data": {
      "text/plain": [
       "array(['3', '2', '4', '1', '5', 0, '6'], dtype=object)"
      ]
     },
     "execution_count": 276,
     "metadata": {
      "tags": []
     },
     "output_type": "execute_result"
    }
   ],
   "source": [
    "house_data['beds'].unique()"
   ]
  },
  {
   "cell_type": "code",
   "execution_count": null,
   "metadata": {
    "colab": {
     "base_uri": "https://localhost:8080/",
     "height": 304
    },
    "id": "WNzG8Ilhn44c",
    "outputId": "6788ef6c-f6c1-4fe3-832d-d534cce32cf9"
   },
   "outputs": [
    {
     "data": {
      "text/plain": [
       "<matplotlib.axes._subplots.AxesSubplot at 0x7f606b353ba8>"
      ]
     },
     "execution_count": 277,
     "metadata": {
      "tags": []
     },
     "output_type": "execute_result"
    },
    {
     "data": {
      "image/png": "[encoded data removed]",
      "text/plain": [
       "<Figure size 432x288 with 1 Axes>"
      ]
     },
     "metadata": {
      "needs_background": "light",
      "tags": []
     },
     "output_type": "display_data"
    }
   ],
   "source": [
    "df = house_data.groupby('beds')['Price'].mean()\n",
    "df.plot.bar()"
   ]
  },
  {
   "cell_type": "code",
   "execution_count": null,
   "metadata": {
    "colab": {
     "base_uri": "https://localhost:8080/",
     "height": 304
    },
    "id": "w6iOr7Bdn-B6",
    "outputId": "77f8ea77-e6d0-4531-88e1-de06fc367918"
   },
   "outputs": [
    {
     "data": {
      "text/plain": [
       "<matplotlib.axes._subplots.AxesSubplot at 0x7f606b313ba8>"
      ]
     },
     "execution_count": 278,
     "metadata": {
      "tags": []
     },
     "output_type": "execute_result"
    },
    {
     "data": {
      "image/png": "[encoded data removed]",
      "text/plain": [
       "<Figure size 432x288 with 1 Axes>"
      ]
     },
     "metadata": {
      "needs_background": "light",
      "tags": []
     },
     "output_type": "display_data"
    }
   ],
   "source": [
    "df = house_data.groupby('bath')['Price'].mean()\n",
    "df.plot.bar()"
   ]
  },
  {
   "cell_type": "code",
   "execution_count": null,
   "metadata": {
    "colab": {
     "base_uri": "https://localhost:8080/",
     "height": 304
    },
    "id": "UgVh9QquoBmJ",
    "outputId": "21a9d4cf-4c22-496c-a678-8dd1010663e2"
   },
   "outputs": [
    {
     "data": {
      "text/plain": [
       "<matplotlib.axes._subplots.AxesSubplot at 0x7f606b295d68>"
      ]
     },
     "execution_count": 279,
     "metadata": {
      "tags": []
     },
     "output_type": "execute_result"
    },
    {
     "data": {
      "image/png": "[encoded data removed]",
      "text/plain": [
       "<Figure size 432x288 with 1 Axes>"
      ]
     },
     "metadata": {
      "needs_background": "light",
      "tags": []
     },
     "output_type": "display_data"
    }
   ],
   "source": [
    "df = house_data.groupby('parking')['Price'].mean()\n",
    "df.plot.bar()"
   ]
  },
  {
   "cell_type": "markdown",
   "metadata": {
    "id": "7BOUIcl26tv5"
   },
   "source": [
    "Extracting the the street names from Address"
   ]
  },
  {
   "cell_type": "code",
   "execution_count": null,
   "metadata": {
    "id": "tY1mB8fn_daX"
   },
   "outputs": [],
   "source": [
    "df = house_data['Address'].str.split(r'[/0-9]+', expand=True).drop(columns=[0,2,3])\n",
    "df = df[1].str.split(' ', expand=True).drop(columns=[0,3,4,5,6,7])\n",
    "house_data['street'] = df[1].str.cat(df[2], sep =\" \") "
   ]
  },
  {
   "cell_type": "code",
   "execution_count": null,
   "metadata": {
    "colab": {
     "base_uri": "https://localhost:8080/",
     "height": 230
    },
    "id": "3qQwh5096Wjm",
    "outputId": "0b896e64-8ad3-4716-a194-5c046a1a589f"
   },
   "outputs": [
    {
     "data": {
      "text/plain": [
       "5          Charles Street\n",
       "7           Marine Parade\n",
       "8       Trenerry Crescent\n",
       "10       Grosvenor Street\n",
       "11       Nicholson Street\n",
       "              ...        \n",
       "2096         Victory Road\n",
       "2097        Marshall Road\n",
       "2098      Clydesdale Road\n",
       "2099      Kitson Crescent\n",
       "2100        Thomas Street\n",
       "Name: street, Length: 1104, dtype: object"
      ]
     },
     "execution_count": 281,
     "metadata": {
      "tags": []
     },
     "output_type": "execute_result"
    }
   ],
   "source": [
    "house_data.street"
   ]
  },
  {
   "cell_type": "markdown",
   "metadata": {
    "id": "EBroNatiXghU"
   },
   "source": [
    "Extracting the distance to the nearest school"
   ]
  },
  {
   "cell_type": "code",
   "execution_count": null,
   "metadata": {
    "id": "oT0yMUrqXgEx"
   },
   "outputs": [],
   "source": [
    "def extract(text):\n",
    "  return re.search('[0-9.0-9]+', text).group()\n",
    "\n",
    "house_data['Schools'] = house_data['Schools'].apply(extract)"
   ]
  },
  {
   "cell_type": "code",
   "execution_count": null,
   "metadata": {
    "id": "VoPg-dNy_DCY"
   },
   "outputs": [],
   "source": [
    "features_col = ['Suburb', 'Type', 'beds', 'bath', 'parking','Schools']\n",
    "house_data[features_col]\n",
    "house_data['Schools'] = pd.to_numeric(house_data['Schools'])"
   ]
  },
  {
   "cell_type": "code",
   "execution_count": null,
   "metadata": {
    "colab": {
     "base_uri": "https://localhost:8080/",
     "height": 615
    },
    "id": "PE5vhx_AMrC_",
    "outputId": "db814125-65f5-4abf-a419-f213bd9c6fd9"
   },
   "outputs": [
    {
     "data": {
      "image/png": "[encoded data removed]",
      "text/plain": [
       "<Figure size 1440x720 with 2 Axes>"
      ]
     },
     "metadata": {
      "needs_background": "light",
      "tags": []
     },
     "output_type": "display_data"
    }
   ],
   "source": [
    "#house' 'apartment unit flat' 'townhouse' 'new apartments plan' 'villa'\n",
    "fig, ax = plt.subplots(figsize=(20,10))\n",
    "df_wide=house_data.pivot_table(index='Type', columns='beds', values='Price')\n",
    "\n",
    "p2=sns.heatmap(df_wide, ax = ax)"
   ]
  },
  {
   "cell_type": "markdown",
   "metadata": {
    "id": "T0gm1SmRobQU"
   },
   "source": [
    "Insights: \n",
    "1. Villa with <= 1 number of beds has the least price\n",
    "2. Apartment unit flat has the highest price for beds >= 4"
   ]
  },
  {
   "cell_type": "code",
   "execution_count": null,
   "metadata": {
    "colab": {
     "base_uri": "https://localhost:8080/",
     "height": 615
    },
    "id": "UWBpgHzwR9hT",
    "outputId": "65fc3c2b-3fc2-42ed-c562-4478e1afd35c"
   },
   "outputs": [
    {
     "data": {
      "image/png": "[encoded data removed]",
      "text/plain": [
       "<Figure size 1440x720 with 2 Axes>"
      ]
     },
     "metadata": {
      "needs_background": "light",
      "tags": []
     },
     "output_type": "display_data"
    }
   ],
   "source": [
    "fig, ax = plt.subplots(figsize=(20,10))\n",
    "df_wide=house_data.pivot_table(index='Type', columns='Schools', values='Price')\n",
    "\n",
    "p2=sns.heatmap(df_wide, ax = ax)"
   ]
  },
  {
   "cell_type": "markdown",
   "metadata": {
    "id": "0EksVBrtoy0A"
   },
   "source": [
    "Insights:\n",
    "1. houses with schools in close proximity (0.1 - 1.1km) are high in price. similar pattern in new apartment. "
   ]
  },
  {
   "cell_type": "markdown",
   "metadata": {
    "id": "gaI4C2zQCDjc"
   },
   "source": [
    "Preprocessing the features before modelling\n",
    "\n",
    "Label encode the categorical data"
   ]
  },
  {
   "cell_type": "code",
   "execution_count": null,
   "metadata": {
    "colab": {
     "base_uri": "https://localhost:8080/",
     "height": 247
    },
    "id": "fqjT-ta_CDBB",
    "outputId": "b45ce27f-2d10-4f13-ca7e-a31f71d59368"
   },
   "outputs": [
    {
     "name": "stdout",
     "output_type": "stream",
     "text": [
      "<class 'pandas.core.frame.DataFrame'>\n",
      "Int64Index: 1104 entries, 5 to 2100\n",
      "Data columns (total 6 columns):\n",
      " #   Column   Non-Null Count  Dtype  \n",
      "---  ------   --------------  -----  \n",
      " 0   Suburb   1104 non-null   object \n",
      " 1   Type     1104 non-null   object \n",
      " 2   beds     1104 non-null   object \n",
      " 3   bath     1104 non-null   object \n",
      " 4   parking  1104 non-null   object \n",
      " 5   Schools  1104 non-null   float64\n",
      "dtypes: float64(1), object(5)\n",
      "memory usage: 100.4+ KB\n"
     ]
    }
   ],
   "source": [
    "house_data[features_col].info()"
   ]
  },
  {
   "cell_type": "code",
   "execution_count": null,
   "metadata": {
    "id": "oGB6Pl7KCZzN"
   },
   "outputs": [],
   "source": [
    "#Label encode the suburbs, type and amenities\n",
    "le = LabelEncoder()\n",
    "house_data['Suburb'] = le.fit_transform(house_data['Suburb'])\n",
    "house_data['Type'] = le.fit_transform(house_data['Type'])\n",
    "house_data['beds'] = pd.to_numeric(house_data['beds'])\n",
    "house_data['bath'] = pd.to_numeric(house_data['bath'])\n",
    "house_data['parking'] = pd.to_numeric(house_data['parking'])"
   ]
  },
  {
   "cell_type": "code",
   "execution_count": null,
   "metadata": {
    "colab": {
     "base_uri": "https://localhost:8080/",
     "height": 247
    },
    "id": "66lP3Bd9tBs4",
    "outputId": "a7f67219-3624-4e3b-e512-10ce0bcce8e9"
   },
   "outputs": [
    {
     "name": "stdout",
     "output_type": "stream",
     "text": [
      "<class 'pandas.core.frame.DataFrame'>\n",
      "Int64Index: 1104 entries, 5 to 2100\n",
      "Data columns (total 6 columns):\n",
      " #   Column   Non-Null Count  Dtype  \n",
      "---  ------   --------------  -----  \n",
      " 0   Suburb   1104 non-null   int64  \n",
      " 1   Type     1104 non-null   int64  \n",
      " 2   beds     1104 non-null   int64  \n",
      " 3   bath     1104 non-null   int64  \n",
      " 4   parking  1104 non-null   int64  \n",
      " 5   Schools  1104 non-null   float64\n",
      "dtypes: float64(1), int64(5)\n",
      "memory usage: 100.4 KB\n"
     ]
    }
   ],
   "source": [
    "house_data[features_col].info()"
   ]
  },
  {
   "cell_type": "code",
   "execution_count": null,
   "metadata": {
    "colab": {
     "base_uri": "https://localhost:8080/",
     "height": 52
    },
    "id": "apUfCBR7HPDP",
    "outputId": "9df30e53-58ac-4dfb-9ffd-2eea55be1003"
   },
   "outputs": [
    {
     "data": {
      "text/plain": [
       "array([0.5, 0.7, 0.9, 0.4, 0.3, 1. , 0.6, 0.8, 0.1, 0.2, 1.1, 7. , 1.2,\n",
       "       1.7, 1.4, 1.6, 1.3, 1.5, 1.8])"
      ]
     },
     "execution_count": 289,
     "metadata": {
      "tags": []
     },
     "output_type": "execute_result"
    }
   ],
   "source": [
    "house_data['Schools'].unique()"
   ]
  },
  {
   "cell_type": "code",
   "execution_count": null,
   "metadata": {
    "colab": {
     "base_uri": "https://localhost:8080/",
     "height": 307
    },
    "id": "dE2r1sbFG-1b",
    "outputId": "eda0f574-ee1e-4c90-a08c-266fbf3b4e5d"
   },
   "outputs": [
    {
     "data": {
      "text/plain": [
       "<matplotlib.axes._subplots.AxesSubplot at 0x7f606b18f8d0>"
      ]
     },
     "execution_count": 290,
     "metadata": {
      "tags": []
     },
     "output_type": "execute_result"
    },
    {
     "data": {
      "image/png": "[encoded data removed]",
      "text/plain": [
       "<Figure size 432x288 with 1 Axes>"
      ]
     },
     "metadata": {
      "needs_background": "light",
      "tags": []
     },
     "output_type": "display_data"
    }
   ],
   "source": [
    "house_data.plot.scatter(x='Schools',\n",
    "                      y='Price',\n",
    "                      c='DarkBlue')\n"
   ]
  },
  {
   "cell_type": "code",
   "execution_count": null,
   "metadata": {
    "id": "eOGxwTebtFdq"
   },
   "outputs": [],
   "source": [
    "#Converting the X and Y to arrays\n",
    "X = house_data[features_col].values\n",
    "Y = house_data['Price'].values"
   ]
  },
  {
   "cell_type": "code",
   "execution_count": null,
   "metadata": {
    "id": "B0mIwATK6cZh"
   },
   "outputs": [],
   "source": [
    "#Split the test and train data\n",
    "X_train, X_test, y_train, y_test = train_test_split(X, Y, test_size=0.20, random_state=42)"
   ]
  },
  {
   "cell_type": "code",
   "execution_count": null,
   "metadata": {
    "colab": {
     "base_uri": "https://localhost:8080/",
     "height": 34
    },
    "id": "tDDxbpi97DyR",
    "outputId": "465329ab-68f8-4c2b-954d-f3e301e9d53b"
   },
   "outputs": [
    {
     "data": {
      "text/plain": [
       "(883, 1)"
      ]
     },
     "execution_count": 293,
     "metadata": {
      "tags": []
     },
     "output_type": "execute_result"
    }
   ],
   "source": [
    "#Converting to 2D array\n",
    "y_train = np.reshape(y_train, (y_train.shape[0], 1))\n",
    "y_test = np.reshape(y_test, (y_test.shape[0], 1))\n",
    "\n",
    "y_train.shape"
   ]
  },
  {
   "cell_type": "code",
   "execution_count": null,
   "metadata": {
    "id": "zkn7br1f0-SP"
   },
   "outputs": [],
   "source": [
    "#Scaling the data to 0 - 1\n",
    "sc = MinMaxScaler(feature_range = (0,1))\n",
    "\n",
    "X_train = sc.fit_transform(X_train)\n",
    "y_train = sc.fit_transform(y_train)\n",
    "X_test = sc.fit_transform(X_test)\n",
    "y_test = sc.fit_transform(y_test)\n"
   ]
  },
  {
   "cell_type": "code",
   "execution_count": null,
   "metadata": {
    "id": "SK7jth1x80GZ"
   },
   "outputs": [],
   "source": [
    "#Converting the X_train, y_train, X_test, y_test into 3D arrays\n",
    "def create_dataset (X, y, time_steps = 1):\n",
    "    Xs, ys = [], []\n",
    "    for i in range(len(X)-time_steps):\n",
    "        v = X[i:i+time_steps, :]\n",
    "        Xs.append(v)\n",
    "        ys.append(y[i+time_steps])\n",
    "    return np.array(Xs), np.array(ys)\n",
    "\n",
    "TIME_STEPS = 30\n"
   ]
  },
  {
   "cell_type": "code",
   "execution_count": null,
   "metadata": {
    "colab": {
     "base_uri": "https://localhost:8080/",
     "height": 87
    },
    "id": "2pB7q09y9h8d",
    "outputId": "430b9a8e-6ad8-4e5a-caab-7034fad797f5"
   },
   "outputs": [
    {
     "name": "stdout",
     "output_type": "stream",
     "text": [
      "X_train.shape:  (191, 30, 6)\n",
      "y_train.shape:  (853, 1)\n",
      "X_test.shape:  (191, 30, 6)\n",
      "y_test.shape:  (853, 1)\n"
     ]
    }
   ],
   "source": [
    "X_test, y_test = create_dataset(X_test, y_test,   \n",
    "                                TIME_STEPS)\n",
    "X_train, y_train = create_dataset(X_train,y_train, \n",
    "                                  TIME_STEPS)\n",
    "print('X_train.shape: ', X_test.shape)\n",
    "print('y_train.shape: ', y_train.shape)\n",
    "print('X_test.shape: ', X_test.shape)\n",
    "print('y_test.shape: ', y_train.shape)"
   ]
  },
  {
   "cell_type": "code",
   "execution_count": null,
   "metadata": {
    "colab": {
     "base_uri": "https://localhost:8080/",
     "height": 1000
    },
    "id": "Bm-K8w5D-fd5",
    "outputId": "635305bb-e117-4e9f-dc64-03c3d7cf7754"
   },
   "outputs": [
    {
     "name": "stdout",
     "output_type": "stream",
     "text": [
      "Epoch 1/50\n",
      "22/22 [==============================] - 5s 211ms/step - loss: 0.0234 - val_loss: 0.0240\n",
      "Epoch 2/50\n",
      "22/22 [==============================] - 3s 114ms/step - loss: 0.0209 - val_loss: 0.0246\n",
      "Epoch 3/50\n",
      "22/22 [==============================] - 2s 113ms/step - loss: 0.0206 - val_loss: 0.0248\n",
      "Epoch 4/50\n",
      "22/22 [==============================] - 2s 111ms/step - loss: 0.0201 - val_loss: 0.0243\n",
      "Epoch 5/50\n",
      "22/22 [==============================] - 2s 112ms/step - loss: 0.0213 - val_loss: 0.0250\n",
      "Epoch 6/50\n",
      "22/22 [==============================] - 2s 112ms/step - loss: 0.0202 - val_loss: 0.0241\n",
      "Epoch 7/50\n",
      "22/22 [==============================] - 2s 113ms/step - loss: 0.0202 - val_loss: 0.0243\n",
      "Epoch 8/50\n",
      "22/22 [==============================] - 2s 111ms/step - loss: 0.0207 - val_loss: 0.0242\n",
      "Epoch 9/50\n",
      "22/22 [==============================] - 2s 111ms/step - loss: 0.0202 - val_loss: 0.0240\n",
      "Epoch 10/50\n",
      "22/22 [==============================] - 2s 113ms/step - loss: 0.0203 - val_loss: 0.0247\n",
      "Epoch 11/50\n",
      "22/22 [==============================] - 2s 112ms/step - loss: 0.0199 - val_loss: 0.0243\n",
      "Epoch 12/50\n",
      "22/22 [==============================] - 2s 113ms/step - loss: 0.0201 - val_loss: 0.0263\n",
      "Epoch 13/50\n",
      "22/22 [==============================] - 3s 115ms/step - loss: 0.0206 - val_loss: 0.0241\n",
      "Epoch 14/50\n",
      "22/22 [==============================] - 2s 113ms/step - loss: 0.0200 - val_loss: 0.0246\n",
      "Epoch 15/50\n",
      "22/22 [==============================] - 2s 111ms/step - loss: 0.0198 - val_loss: 0.0239\n",
      "Epoch 16/50\n",
      "22/22 [==============================] - 2s 113ms/step - loss: 0.0204 - val_loss: 0.0274\n",
      "Epoch 17/50\n",
      "22/22 [==============================] - 3s 118ms/step - loss: 0.0203 - val_loss: 0.0241\n",
      "Epoch 18/50\n",
      "22/22 [==============================] - 3s 116ms/step - loss: 0.0201 - val_loss: 0.0245\n",
      "Epoch 19/50\n",
      "22/22 [==============================] - 2s 112ms/step - loss: 0.0202 - val_loss: 0.0247\n",
      "Epoch 20/50\n",
      "22/22 [==============================] - 2s 113ms/step - loss: 0.0206 - val_loss: 0.0257\n",
      "Epoch 21/50\n",
      "22/22 [==============================] - 3s 115ms/step - loss: 0.0199 - val_loss: 0.0246\n",
      "Epoch 22/50\n",
      "22/22 [==============================] - 2s 112ms/step - loss: 0.0203 - val_loss: 0.0259\n",
      "Epoch 23/50\n",
      "22/22 [==============================] - 2s 112ms/step - loss: 0.0195 - val_loss: 0.0251\n",
      "Epoch 24/50\n",
      "22/22 [==============================] - 2s 110ms/step - loss: 0.0199 - val_loss: 0.0243\n",
      "Epoch 25/50\n",
      "22/22 [==============================] - 3s 114ms/step - loss: 0.0197 - val_loss: 0.0267\n",
      "Epoch 26/50\n",
      "22/22 [==============================] - 2s 113ms/step - loss: 0.0202 - val_loss: 0.0255\n",
      "Epoch 27/50\n",
      "22/22 [==============================] - 2s 113ms/step - loss: 0.0197 - val_loss: 0.0243\n",
      "Epoch 28/50\n",
      "22/22 [==============================] - 3s 118ms/step - loss: 0.0198 - val_loss: 0.0252\n",
      "Epoch 29/50\n",
      "22/22 [==============================] - 2s 112ms/step - loss: 0.0197 - val_loss: 0.0241\n",
      "Epoch 30/50\n",
      "22/22 [==============================] - 3s 114ms/step - loss: 0.0197 - val_loss: 0.0241\n",
      "Epoch 31/50\n",
      "22/22 [==============================] - 2s 113ms/step - loss: 0.0198 - val_loss: 0.0240\n",
      "Epoch 32/50\n",
      "22/22 [==============================] - 2s 112ms/step - loss: 0.0200 - val_loss: 0.0242\n",
      "Epoch 33/50\n",
      "22/22 [==============================] - 3s 115ms/step - loss: 0.0194 - val_loss: 0.0254\n",
      "Epoch 34/50\n",
      "22/22 [==============================] - 3s 115ms/step - loss: 0.0193 - val_loss: 0.0251\n",
      "Epoch 35/50\n",
      "22/22 [==============================] - 3s 118ms/step - loss: 0.0203 - val_loss: 0.0256\n",
      "Epoch 36/50\n",
      "22/22 [==============================] - 2s 112ms/step - loss: 0.0196 - val_loss: 0.0249\n",
      "Epoch 37/50\n",
      "22/22 [==============================] - 2s 112ms/step - loss: 0.0196 - val_loss: 0.0259\n",
      "Epoch 38/50\n",
      "22/22 [==============================] - 2s 112ms/step - loss: 0.0195 - val_loss: 0.0251\n",
      "Epoch 39/50\n",
      "22/22 [==============================] - 3s 114ms/step - loss: 0.0196 - val_loss: 0.0244\n",
      "Epoch 40/50\n",
      "22/22 [==============================] - 3s 114ms/step - loss: 0.0192 - val_loss: 0.0257\n",
      "Epoch 41/50\n",
      "22/22 [==============================] - 2s 114ms/step - loss: 0.0195 - val_loss: 0.0245\n",
      "Epoch 42/50\n",
      "22/22 [==============================] - 3s 114ms/step - loss: 0.0196 - val_loss: 0.0243\n",
      "Epoch 43/50\n",
      "22/22 [==============================] - 2s 113ms/step - loss: 0.0196 - val_loss: 0.0248\n",
      "Epoch 44/50\n",
      "22/22 [==============================] - 2s 113ms/step - loss: 0.0193 - val_loss: 0.0251\n",
      "Epoch 45/50\n",
      "22/22 [==============================] - 2s 112ms/step - loss: 0.0195 - val_loss: 0.0249\n",
      "Epoch 46/50\n",
      "22/22 [==============================] - 3s 119ms/step - loss: 0.0194 - val_loss: 0.0245\n",
      "Epoch 47/50\n",
      "22/22 [==============================] - 2s 111ms/step - loss: 0.0199 - val_loss: 0.0250\n",
      "Epoch 48/50\n",
      "22/22 [==============================] - 3s 117ms/step - loss: 0.0192 - val_loss: 0.0252\n",
      "Epoch 49/50\n",
      "22/22 [==============================] - 2s 114ms/step - loss: 0.0191 - val_loss: 0.0245\n",
      "Epoch 50/50\n",
      "22/22 [==============================] - 3s 114ms/step - loss: 0.0198 - val_loss: 0.0245\n"
     ]
    }
   ],
   "source": [
    "#Basic LSTM model\n",
    "def create_model():\n",
    "  regressor = Sequential()\n",
    "  # Adding the first LSTM layer and some Dropout regularisation\n",
    "  regressor.add(LSTM(units = 64, return_sequences = True, input_shape = (X_train.shape[1], X_train.shape[2])))\n",
    "  regressor.add(Dropout(0.3))\n",
    "  # Adding a second LSTM layer and some Dropout regularisation\n",
    "  regressor.add(Bidirectional(LSTM(units = 64, return_sequences = True)))\n",
    "  regressor.add(Dropout(0.2))\n",
    "  # Adding a third LSTM layer and some Dropout regularisation\n",
    "  regressor.add(Bidirectional(LSTM(units = 64, return_sequences = True)))\n",
    "  regressor.add(Dropout(0.2))\n",
    "  # Adding a fourth LSTM layer and some Dropout regularisation\n",
    "  regressor.add(Bidirectional(LSTM(units = 64)))\n",
    "  regressor.add(Dropout(0.2))\n",
    "  # Adding the output layer\n",
    "  regressor.add(Dense(units = 1))\n",
    "\n",
    "  # Compiling the RNN\n",
    "  regressor.compile(optimizer = 'adam', loss = 'mean_squared_error')\n",
    "\n",
    "  return regressor\n",
    "\n",
    "model = create_model()\n",
    "\n",
    "# Fitting the RNN to the Training set\n",
    "history = model.fit(X_train, y_train, \n",
    "                    epochs = 50, batch_size = 32,validation_split = 0.2)"
   ]
  },
  {
   "cell_type": "code",
   "execution_count": null,
   "metadata": {
    "colab": {
     "base_uri": "https://localhost:8080/",
     "height": 422
    },
    "id": "u4DHtU_UBrrA",
    "outputId": "ac0fe910-542d-41fa-8c99-5f3adac1c3f6"
   },
   "outputs": [
    {
     "data": {
      "text/plain": [
       "<matplotlib.legend.Legend at 0x7f60727936a0>"
      ]
     },
     "execution_count": 301,
     "metadata": {
      "tags": []
     },
     "output_type": "execute_result"
    },
    {
     "data": {
      "image/png": "[encoded data removed]",
      "text/plain": [
       "<Figure size 720x432 with 1 Axes>"
      ]
     },
     "metadata": {
      "needs_background": "light",
      "tags": []
     },
     "output_type": "display_data"
    }
   ],
   "source": [
    "plt.figure(figsize = (10, 6))\n",
    "plt.plot(history.history['loss'])  \n",
    "plt.plot(history.history['val_loss'])  \n",
    "plt.title('model loss')  \n",
    "plt.ylabel('loss')  \n",
    "plt.xlabel('epoch')  \n",
    "plt.legend(['train', 'val'], loc='upper left')"
   ]
  }
 ],
 "metadata": {
  "colab": {
   "collapsed_sections": [],
   "name": "Data Cleaning - A .ipynb",
   "provenance": []
  },
  "kernelspec": {
   "display_name": "Python 3",
   "language": "python",
   "name": "python3"
  },
  "language_info": {
   "codemirror_mode": {
    "name": "ipython",
    "version": 3
   },
   "file_extension": ".py",
   "mimetype": "text/x-python",
   "name": "python",
   "nbconvert_exporter": "python",
   "pygments_lexer": "ipython3",
   "version": "3.8.3"
  }
 },
 "nbformat": 4,
 "nbformat_minor": 1
}
