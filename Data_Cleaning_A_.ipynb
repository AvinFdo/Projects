{
  "nbformat": 4,
  "nbformat_minor": 0,
  "metadata": {
    "colab": {
      "name": "Data Cleaning - A .ipynb",
      "provenance": [],
      "collapsed_sections": []
    },
    "kernelspec": {
      "name": "python3",
      "display_name": "Python 3"
    }
  },
  "cells": [
    {
      "cell_type": "code",
      "metadata": {
        "id": "-iKsSHUP-P8E",
        "outputId": "b9c48ec1-3215-4177-e73f-84fa7b2ef7de",
        "colab": {
          "base_uri": "https://localhost:8080/",
          "height": 141
        }
      },
      "source": [
        "import pandas as pd\n",
        "import numpy as np\n",
        "import nltk \n",
        "from nltk.corpus import stopwords\n",
        "import re\n",
        "from nltk.tokenize import word_tokenize\n",
        "from nltk.stem import WordNetLemmatizer,PorterStemmer\n",
        "import matplotlib.pyplot as plt\n",
        "\n",
        "nltk.download('stopwords')\n",
        "nltk.download('punkt')\n",
        "nltk.download('wordnet')"
      ],
      "execution_count": null,
      "outputs": [
        {
          "output_type": "stream",
          "text": [
            "[nltk_data] Downloading package stopwords to /root/nltk_data...\n",
            "[nltk_data]   Package stopwords is already up-to-date!\n",
            "[nltk_data] Downloading package punkt to /root/nltk_data...\n",
            "[nltk_data]   Package punkt is already up-to-date!\n",
            "[nltk_data] Downloading package wordnet to /root/nltk_data...\n",
            "[nltk_data]   Package wordnet is already up-to-date!\n"
          ],
          "name": "stdout"
        },
        {
          "output_type": "execute_result",
          "data": {
            "text/plain": [
              "True"
            ]
          },
          "metadata": {
            "tags": []
          },
          "execution_count": 25
        }
      ]
    },
    {
      "cell_type": "code",
      "metadata": {
        "id": "VTeRUm4xB3V2",
        "outputId": "75399c9c-9339-43f0-ce71-c2ecf782fbaa",
        "colab": {
          "base_uri": "https://localhost:8080/",
          "height": 551
        }
      },
      "source": [
        "#Load the data csv from google drive\n",
        "house_data = pd.read_csv('/content/drive/My Drive/databackup.csv')\n",
        "house_data.head()"
      ],
      "execution_count": null,
      "outputs": [
        {
          "output_type": "execute_result",
          "data": {
            "text/html": [
              "<div>\n",
              "<style scoped>\n",
              "    .dataframe tbody tr th:only-of-type {\n",
              "        vertical-align: middle;\n",
              "    }\n",
              "\n",
              "    .dataframe tbody tr th {\n",
              "        vertical-align: top;\n",
              "    }\n",
              "\n",
              "    .dataframe thead th {\n",
              "        text-align: right;\n",
              "    }\n",
              "</style>\n",
              "<table border=\"1\" class=\"dataframe\">\n",
              "  <thead>\n",
              "    <tr style=\"text-align: right;\">\n",
              "      <th></th>\n",
              "      <th>Suburb</th>\n",
              "      <th>Address</th>\n",
              "      <th>Description</th>\n",
              "      <th>Price</th>\n",
              "      <th>Amenities</th>\n",
              "      <th>Type</th>\n",
              "      <th>Date</th>\n",
              "      <th>Insights</th>\n",
              "      <th>Schools</th>\n",
              "      <th>URL</th>\n",
              "      <th>Profile</th>\n",
              "      <th>Performance</th>\n",
              "    </tr>\n",
              "  </thead>\n",
              "  <tbody>\n",
              "    <tr>\n",
              "      <th>0</th>\n",
              "      <td>0</td>\n",
              "      <td>0</td>\n",
              "      <td>0</td>\n",
              "      <td>0</td>\n",
              "      <td>0</td>\n",
              "      <td>0</td>\n",
              "      <td>0</td>\n",
              "      <td>0</td>\n",
              "      <td>0</td>\n",
              "      <td>0</td>\n",
              "      <td>0</td>\n",
              "      <td>0</td>\n",
              "    </tr>\n",
              "    <tr>\n",
              "      <th>1</th>\n",
              "      <td>Abbotsford-vic-3067</td>\n",
              "      <td>NaN</td>\n",
              "      <td>Stylish living, spectacular views\\nEnviable vi...</td>\n",
              "      <td>SOLD - $610,000</td>\n",
              "      <td>2\\nBeds\\n2\\nBaths\\n1\\nParking</td>\n",
              "      <td>Apartment / Unit / Flat</td>\n",
              "      <td>Listing sold by advertiser 10th August 2020</td>\n",
              "      <td>First listed on 20 July, this unit has been on...</td>\n",
              "      <td>ALL\\nPRIMARY\\nSECONDARY\\nPRIVATE\\nGOVERNMENT S...</td>\n",
              "      <td>https://www.domain.com.au/627-20-shamrock-stre...</td>\n",
              "      <td>Building &amp; Street Profiles\\nBUILDING\\nSTREET\\n...</td>\n",
              "      <td>Insights for 2 bedroom units in Abbotsford\\nMa...</td>\n",
              "    </tr>\n",
              "    <tr>\n",
              "      <th>2</th>\n",
              "      <td>Abbotsford-vic-3067</td>\n",
              "      <td>NaN</td>\n",
              "      <td>A charming Victorian relishes its new role\\nPe...</td>\n",
              "      <td>SOLD - Price Withheld</td>\n",
              "      <td>3\\nBeds\\n1\\nBath\\n−</td>\n",
              "      <td>House</td>\n",
              "      <td>Listing sold by advertiser 7th August 2020</td>\n",
              "      <td>71 Yarra Street, Abbotsford VIC 3067 was last ...</td>\n",
              "      <td>ALL\\nPRIMARY\\nSECONDARY\\nPRIVATE\\nGOVERNMENT S...</td>\n",
              "      <td>https://www.domain.com.au/71-yarra-street-abbo...</td>\n",
              "      <td>School Catchment Zones for 71 Yarra Street\\nAL...</td>\n",
              "      <td>Insights for 3 bedroom houses in Abbotsford\\nM...</td>\n",
              "    </tr>\n",
              "    <tr>\n",
              "      <th>3</th>\n",
              "      <td>Abbotsford-vic-3067</td>\n",
              "      <td>71 Yarra Street Abbotsford VIC 3067</td>\n",
              "      <td>A charming Victorian relishes its new role\\nPe...</td>\n",
              "      <td>SOLD - Price Withheld</td>\n",
              "      <td>3\\nBeds\\n1\\nBath\\n−</td>\n",
              "      <td>House</td>\n",
              "      <td>Listing sold by advertiser 7th August 2020</td>\n",
              "      <td>71 Yarra Street, Abbotsford VIC 3067 was last ...</td>\n",
              "      <td>ALL\\nPRIMARY\\nSECONDARY\\nPRIVATE\\nGOVERNMENT S...</td>\n",
              "      <td>https://www.domain.com.au/71-yarra-street-abbo...</td>\n",
              "      <td>Street Profile\\nYarra St, \\nAbbotsford VIC 306...</td>\n",
              "      <td>Insights for 3 bedroom houses in Abbotsford\\nM...</td>\n",
              "    </tr>\n",
              "    <tr>\n",
              "      <th>4</th>\n",
              "      <td>Abbotsford-vic-3067</td>\n",
              "      <td>411/4 Acacia Place Abbotsford VIC 3067</td>\n",
              "      <td>BEST VALUE IN ABBOTSFORD PRICED TO SELL\\nPerfe...</td>\n",
              "      <td>SOLD - Price Withheld</td>\n",
              "      <td>1\\nBed\\n1\\nBath\\n1\\nParking</td>\n",
              "      <td>Apartment / Unit / Flat</td>\n",
              "      <td>Listing sold by advertiser 6th August 2020</td>\n",
              "      <td>39 other 1 bedroom unit in Abbotsford have rec...</td>\n",
              "      <td>ALL\\nPRIMARY\\nSECONDARY\\nPRIVATE\\nGOVERNMENT S...</td>\n",
              "      <td>https://www.domain.com.au/411-4-acacia-place-a...</td>\n",
              "      <td>Building &amp; Street Profiles\\nBUILDING\\nSTREET\\n...</td>\n",
              "      <td>Insights for 1 bedroom units in Abbotsford\\nMa...</td>\n",
              "    </tr>\n",
              "  </tbody>\n",
              "</table>\n",
              "</div>"
            ],
            "text/plain": [
              "                Suburb  ...                                        Performance\n",
              "0                    0  ...                                                  0\n",
              "1  Abbotsford-vic-3067  ...  Insights for 2 bedroom units in Abbotsford\\nMa...\n",
              "2  Abbotsford-vic-3067  ...  Insights for 3 bedroom houses in Abbotsford\\nM...\n",
              "3  Abbotsford-vic-3067  ...  Insights for 3 bedroom houses in Abbotsford\\nM...\n",
              "4  Abbotsford-vic-3067  ...  Insights for 1 bedroom units in Abbotsford\\nMa...\n",
              "\n",
              "[5 rows x 12 columns]"
            ]
          },
          "metadata": {
            "tags": []
          },
          "execution_count": 26
        }
      ]
    },
    {
      "cell_type": "code",
      "metadata": {
        "id": "QXd4QD8YLRhn",
        "outputId": "4a850587-da96-4f61-84b8-48e90a0a4edf",
        "colab": {
          "base_uri": "https://localhost:8080/",
          "height": 354
        }
      },
      "source": [
        "#Print the datatypes \n",
        "house_data.info()\n",
        "\n",
        "#All variables are string and there are 11 variables"
      ],
      "execution_count": null,
      "outputs": [
        {
          "output_type": "stream",
          "text": [
            "<class 'pandas.core.frame.DataFrame'>\n",
            "RangeIndex: 2101 entries, 0 to 2100\n",
            "Data columns (total 12 columns):\n",
            " #   Column       Non-Null Count  Dtype \n",
            "---  ------       --------------  ----- \n",
            " 0   Suburb       2101 non-null   object\n",
            " 1   Address      1406 non-null   object\n",
            " 2   Description  2101 non-null   object\n",
            " 3   Price        2101 non-null   object\n",
            " 4   Amenities    2099 non-null   object\n",
            " 5   Type         2101 non-null   object\n",
            " 6   Date         2101 non-null   object\n",
            " 7   Insights     2101 non-null   object\n",
            " 8   Schools      2101 non-null   object\n",
            " 9   URL          2101 non-null   object\n",
            " 10  Profile      1910 non-null   object\n",
            " 11  Performance  2101 non-null   object\n",
            "dtypes: object(12)\n",
            "memory usage: 197.1+ KB\n"
          ],
          "name": "stdout"
        }
      ]
    },
    {
      "cell_type": "code",
      "metadata": {
        "id": "r0yp9Y1YLX5g"
      },
      "source": [
        "#Drop the rows with nulls\n",
        "house_data = house_data.dropna() \n",
        "house_data = house_data.iloc[1:] #removing the 1st row of the dataframe as it does not have any data"
      ],
      "execution_count": null,
      "outputs": []
    },
    {
      "cell_type": "markdown",
      "metadata": {
        "id": "bk5IuyM2CWLz"
      },
      "source": [
        "Tidying up\n",
        "\n",
        "\n",
        "The response variable is house price.\n",
        "The predictors can be multiple, including the suburb, amenities, description, type, schools.."
      ]
    },
    {
      "cell_type": "code",
      "metadata": {
        "id": "9YYZBytiJssO",
        "outputId": "f881c673-19dd-44a5-c9ee-c9587a294f33",
        "colab": {
          "base_uri": "https://localhost:8080/",
          "height": 573
        }
      },
      "source": [
        "#I select the potential independent variables as features\n",
        "features_col = ['Suburb','Schools', 'Profile', 'Amenities', 'Type']\n",
        "house_data[features_col]"
      ],
      "execution_count": null,
      "outputs": [
        {
          "output_type": "execute_result",
          "data": {
            "text/html": [
              "<div>\n",
              "<style scoped>\n",
              "    .dataframe tbody tr th:only-of-type {\n",
              "        vertical-align: middle;\n",
              "    }\n",
              "\n",
              "    .dataframe tbody tr th {\n",
              "        vertical-align: top;\n",
              "    }\n",
              "\n",
              "    .dataframe thead th {\n",
              "        text-align: right;\n",
              "    }\n",
              "</style>\n",
              "<table border=\"1\" class=\"dataframe\">\n",
              "  <thead>\n",
              "    <tr style=\"text-align: right;\">\n",
              "      <th></th>\n",
              "      <th>Suburb</th>\n",
              "      <th>Schools</th>\n",
              "      <th>Profile</th>\n",
              "      <th>Amenities</th>\n",
              "      <th>Type</th>\n",
              "    </tr>\n",
              "  </thead>\n",
              "  <tbody>\n",
              "    <tr>\n",
              "      <th>3</th>\n",
              "      <td>Abbotsford-vic-3067</td>\n",
              "      <td>ALL\\nPRIMARY\\nSECONDARY\\nPRIVATE\\nGOVERNMENT S...</td>\n",
              "      <td>Street Profile\\nYarra St, \\nAbbotsford VIC 306...</td>\n",
              "      <td>3\\nBeds\\n1\\nBath\\n−</td>\n",
              "      <td>House</td>\n",
              "    </tr>\n",
              "    <tr>\n",
              "      <th>4</th>\n",
              "      <td>Abbotsford-vic-3067</td>\n",
              "      <td>ALL\\nPRIMARY\\nSECONDARY\\nPRIVATE\\nGOVERNMENT S...</td>\n",
              "      <td>Building &amp; Street Profiles\\nBUILDING\\nSTREET\\n...</td>\n",
              "      <td>1\\nBed\\n1\\nBath\\n1\\nParking</td>\n",
              "      <td>Apartment / Unit / Flat</td>\n",
              "    </tr>\n",
              "    <tr>\n",
              "      <th>5</th>\n",
              "      <td>Abbotsford-vic-3067</td>\n",
              "      <td>ALL\\nPRIMARY\\nSECONDARY\\nPRIVATE\\nGOVERNMENT S...</td>\n",
              "      <td>Street Profile\\nCharles St, \\nAbbotsford VIC 3...</td>\n",
              "      <td>3\\nBeds\\n1\\nBath\\n−</td>\n",
              "      <td>House</td>\n",
              "    </tr>\n",
              "    <tr>\n",
              "      <th>6</th>\n",
              "      <td>Abbotsford-vic-3067</td>\n",
              "      <td>ALL\\nPRIMARY\\nSECONDARY\\nPRIVATE\\nGOVERNMENT S...</td>\n",
              "      <td>Building &amp; Street Profiles\\nBUILDING\\nSTREET\\n...</td>\n",
              "      <td>2\\nBeds\\n2\\nBaths\\n2\\nParking</td>\n",
              "      <td>Apartment / Unit / Flat</td>\n",
              "    </tr>\n",
              "    <tr>\n",
              "      <th>7</th>\n",
              "      <td>Abbotsford-vic-3067</td>\n",
              "      <td>ALL\\nPRIMARY\\nSECONDARY\\nPRIVATE\\nGOVERNMENT S...</td>\n",
              "      <td>Street Profile\\nMarine Pde, \\nAbbotsford VIC 3...</td>\n",
              "      <td>3\\nBeds\\n1\\nBath\\n2\\nParking</td>\n",
              "      <td>House</td>\n",
              "    </tr>\n",
              "    <tr>\n",
              "      <th>...</th>\n",
              "      <td>...</td>\n",
              "      <td>...</td>\n",
              "      <td>...</td>\n",
              "      <td>...</td>\n",
              "      <td>...</td>\n",
              "    </tr>\n",
              "    <tr>\n",
              "      <th>2096</th>\n",
              "      <td>Airport West-vic-3042</td>\n",
              "      <td>ALL\\nPRIMARY\\nSECONDARY\\nPRIVATE\\nGOVERNMENT S...</td>\n",
              "      <td>Street Profile\\nVictory Rd, \\nAirport West VIC...</td>\n",
              "      <td>3\\nBeds\\n2\\nBaths\\n1\\nParking\\n419m²</td>\n",
              "      <td>House</td>\n",
              "    </tr>\n",
              "    <tr>\n",
              "      <th>2097</th>\n",
              "      <td>Airport West-vic-3042</td>\n",
              "      <td>ALL\\nPRIMARY\\nSECONDARY\\nPRIVATE\\nGOVERNMENT S...</td>\n",
              "      <td>Street Profile\\nMarshall Rd, \\nAirport West VI...</td>\n",
              "      <td>4\\nBeds\\n1\\nBath\\n2\\nParking</td>\n",
              "      <td>House</td>\n",
              "    </tr>\n",
              "    <tr>\n",
              "      <th>2098</th>\n",
              "      <td>Airport West-vic-3042</td>\n",
              "      <td>ALL\\nPRIMARY\\nSECONDARY\\nPRIVATE\\nGOVERNMENT S...</td>\n",
              "      <td>Street Profile\\nClydesdale Rd, \\nAirport West ...</td>\n",
              "      <td>3\\nBeds\\n2\\nBaths\\n2\\nParking</td>\n",
              "      <td>Townhouse</td>\n",
              "    </tr>\n",
              "    <tr>\n",
              "      <th>2099</th>\n",
              "      <td>Airport West-vic-3042</td>\n",
              "      <td>ALL\\nPRIMARY\\nSECONDARY\\nPRIVATE\\nGOVERNMENT S...</td>\n",
              "      <td>Building &amp; Street Profiles\\nBUILDING\\nSTREET\\n...</td>\n",
              "      <td>2\\nBeds\\n2\\nBaths\\n1\\nParking</td>\n",
              "      <td>Apartment / Unit / Flat</td>\n",
              "    </tr>\n",
              "    <tr>\n",
              "      <th>2100</th>\n",
              "      <td>Airport West-vic-3042</td>\n",
              "      <td>ALL\\nPRIMARY\\nSECONDARY\\nPRIVATE\\nGOVERNMENT S...</td>\n",
              "      <td>Street Profile\\nThomas St, \\nAirport West VIC ...</td>\n",
              "      <td>3\\nBeds\\n2\\nBaths\\n1\\nParking\\n590m²</td>\n",
              "      <td>House</td>\n",
              "    </tr>\n",
              "  </tbody>\n",
              "</table>\n",
              "<p>1213 rows × 5 columns</p>\n",
              "</div>"
            ],
            "text/plain": [
              "                     Suburb  ...                     Type\n",
              "3       Abbotsford-vic-3067  ...                    House\n",
              "4       Abbotsford-vic-3067  ...  Apartment / Unit / Flat\n",
              "5       Abbotsford-vic-3067  ...                    House\n",
              "6       Abbotsford-vic-3067  ...  Apartment / Unit / Flat\n",
              "7       Abbotsford-vic-3067  ...                    House\n",
              "...                     ...  ...                      ...\n",
              "2096  Airport West-vic-3042  ...                    House\n",
              "2097  Airport West-vic-3042  ...                    House\n",
              "2098  Airport West-vic-3042  ...                Townhouse\n",
              "2099  Airport West-vic-3042  ...  Apartment / Unit / Flat\n",
              "2100  Airport West-vic-3042  ...                    House\n",
              "\n",
              "[1213 rows x 5 columns]"
            ]
          },
          "metadata": {
            "tags": []
          },
          "execution_count": 29
        }
      ]
    },
    {
      "cell_type": "code",
      "metadata": {
        "id": "6IjkPgWKCVWj"
      },
      "source": [
        "#Clean the features by removing the stopwords, regular expressions and replace with a space\n",
        "REPLACE_BY_SPACE_RE = re.compile('[/(){}\\[\\]\\|@,;]')\n",
        "BAD_SYMBOLS_RE = re.compile('[^0-9a-z #+_]')\n",
        "STOPWORDS = set(stopwords.words('english'))\n",
        "\n",
        "def clean_text(text):\n",
        "    text = text.lower() # lowercase text\n",
        "    text = REPLACE_BY_SPACE_RE.sub(' ', text) # replace REPLACE_BY_SPACE_RE symbols by space in text. substitute the matched string in REPLACE_BY_SPACE_RE with space.\n",
        "    text = BAD_SYMBOLS_RE.sub(' ', text) # remove symbols which are in BAD_SYMBOLS_RE from text. substitute the matched string in BAD_SYMBOLS_RE with nothing. \n",
        "    text = text.replace('x', ' ')\n",
        "    text = ' '.join(word for word in text.split() if word not in STOPWORDS)\n",
        "    return text\n",
        "\n",
        "#Applying the clean_text() to features\n",
        "house_data['Schools'] = house_data['Schools'].apply(clean_text)\n",
        "house_data['Profile'] = house_data['Profile'].apply(clean_text)\n",
        "house_data['Amenities'] = house_data['Amenities'].apply(clean_text)\n",
        "house_data['Type'] = house_data['Type'].apply(clean_text)\n",
        "house_data['Suburb'] = house_data['Suburb'].apply(clean_text)"
      ],
      "execution_count": null,
      "outputs": []
    },
    {
      "cell_type": "code",
      "metadata": {
        "id": "gvMixb4H4Azd"
      },
      "source": [
        "#Further cleaning of the column 'Suburb'\n",
        "#We will remove the vic - postcode and preserve only the suburb's name\n",
        "def clean_sub(text):\n",
        "  text = text.replace('vic','')\n",
        "  return text\n",
        "\n",
        "\n",
        "house_data['Suburb'] = house_data['Suburb'].apply(clean_sub)\n",
        "house_data['Suburb'] = house_data['Suburb'].str.replace('\\d+', '')"
      ],
      "execution_count": null,
      "outputs": []
    },
    {
      "cell_type": "code",
      "metadata": {
        "id": "P5duB5xBmeV0",
        "outputId": "f252adc6-2c6f-4ff0-f838-f899e56dfd3e",
        "colab": {
          "base_uri": "https://localhost:8080/",
          "height": 230
        }
      },
      "source": [
        "#Cleaning the house price data and converting to a numeric column\n",
        "def remove(text):\n",
        "  text = text.replace('SOLD -','')\n",
        "  text = text.replace('Price Withheld','0')\n",
        "  text = text.replace('$','')\n",
        "  text = text.replace(',','')\n",
        "  return text\n",
        "\n",
        "house_data['Price'] = house_data['Price'].apply(remove)\n",
        "house_data['Price'] = pd.to_numeric(house_data['Price'])\n",
        "house_data['Price']"
      ],
      "execution_count": null,
      "outputs": [
        {
          "output_type": "execute_result",
          "data": {
            "text/plain": [
              "3             0\n",
              "4             0\n",
              "5        966000\n",
              "6             0\n",
              "7       1580000\n",
              "         ...   \n",
              "2096     665000\n",
              "2097     690000\n",
              "2098     865000\n",
              "2099     500000\n",
              "2100     750000\n",
              "Name: Price, Length: 1213, dtype: int64"
            ]
          },
          "metadata": {
            "tags": []
          },
          "execution_count": 32
        }
      ]
    },
    {
      "cell_type": "code",
      "metadata": {
        "id": "0YHR-qpNo-nU",
        "outputId": "7527d1de-d578-4033-e325-f774ce0b73b4",
        "colab": {
          "base_uri": "https://localhost:8080/",
          "height": 330
        }
      },
      "source": [
        "#Plot of histogram for the house price is skewed\n",
        "house_data.hist(column='Price')"
      ],
      "execution_count": null,
      "outputs": [
        {
          "output_type": "execute_result",
          "data": {
            "text/plain": [
              "array([[<matplotlib.axes._subplots.AxesSubplot object at 0x7fbdc7e1feb8>]],\n",
              "      dtype=object)"
            ]
          },
          "metadata": {
            "tags": []
          },
          "execution_count": 33
        },
        {
          "output_type": "display_data",
          "data": {
            "image/png": "[encoded data removed]",
            "text/plain": [
              "<Figure size 432x288 with 1 Axes>"
            ]
          },
          "metadata": {
            "tags": [],
            "needs_background": "light"
          }
        }
      ]
    },
    {
      "cell_type": "code",
      "metadata": {
        "id": "VcROrh7Ip2J2",
        "outputId": "5880325d-bc3d-4fcb-f4ba-c963b36fc54f",
        "colab": {
          "base_uri": "https://localhost:8080/",
          "height": 265
        }
      },
      "source": [
        "#Median price of the houses\n",
        "median_price = house_data.median()\n",
        "print(median_price)\n",
        "#Replace the null values of house price data with the median figure\n",
        "house_data=house_data.replace({'Price': {0: 775000.0}})\n",
        "house_data['Price']"
      ],
      "execution_count": null,
      "outputs": [
        {
          "output_type": "stream",
          "text": [
            "Price    865000.0\n",
            "dtype: float64\n"
          ],
          "name": "stdout"
        },
        {
          "output_type": "execute_result",
          "data": {
            "text/plain": [
              "3        775000.0\n",
              "4        775000.0\n",
              "5        966000.0\n",
              "6        775000.0\n",
              "7       1580000.0\n",
              "          ...    \n",
              "2096     665000.0\n",
              "2097     690000.0\n",
              "2098     865000.0\n",
              "2099     500000.0\n",
              "2100     750000.0\n",
              "Name: Price, Length: 1213, dtype: float64"
            ]
          },
          "metadata": {
            "tags": []
          },
          "execution_count": 34
        }
      ]
    },
    {
      "cell_type": "code",
      "metadata": {
        "id": "bP9ZmqbQ6uWy",
        "outputId": "bfc59688-663f-4e41-d20d-a1fb1b400d36",
        "colab": {
          "base_uri": "https://localhost:8080/",
          "height": 406
        }
      },
      "source": [
        "house_data[features_col]"
      ],
      "execution_count": null,
      "outputs": [
        {
          "output_type": "execute_result",
          "data": {
            "text/html": [
              "<div>\n",
              "<style scoped>\n",
              "    .dataframe tbody tr th:only-of-type {\n",
              "        vertical-align: middle;\n",
              "    }\n",
              "\n",
              "    .dataframe tbody tr th {\n",
              "        vertical-align: top;\n",
              "    }\n",
              "\n",
              "    .dataframe thead th {\n",
              "        text-align: right;\n",
              "    }\n",
              "</style>\n",
              "<table border=\"1\" class=\"dataframe\">\n",
              "  <thead>\n",
              "    <tr style=\"text-align: right;\">\n",
              "      <th></th>\n",
              "      <th>Suburb</th>\n",
              "      <th>Schools</th>\n",
              "      <th>Profile</th>\n",
              "      <th>Amenities</th>\n",
              "      <th>Type</th>\n",
              "    </tr>\n",
              "  </thead>\n",
              "  <tbody>\n",
              "    <tr>\n",
              "      <th>3</th>\n",
              "      <td>abbotsford</td>\n",
              "      <td>primary secondary private government school ca...</td>\n",
              "      <td>street profile yarra st abbotsford vic 3067 pr...</td>\n",
              "      <td>3 beds 1 bath</td>\n",
              "      <td>house</td>\n",
              "    </tr>\n",
              "    <tr>\n",
              "      <th>4</th>\n",
              "      <td>abbotsford</td>\n",
              "      <td>primary secondary private government school ca...</td>\n",
              "      <td>building street profiles building street 4 aca...</td>\n",
              "      <td>1 bed 1 bath 1 parking</td>\n",
              "      <td>apartment unit flat</td>\n",
              "    </tr>\n",
              "    <tr>\n",
              "      <th>5</th>\n",
              "      <td>abbotsford</td>\n",
              "      <td>primary secondary private government school ca...</td>\n",
              "      <td>street profile charles st abbotsford vic 3067 ...</td>\n",
              "      <td>3 beds 1 bath</td>\n",
              "      <td>house</td>\n",
              "    </tr>\n",
              "    <tr>\n",
              "      <th>6</th>\n",
              "      <td>abbotsford</td>\n",
              "      <td>primary secondary private government school ca...</td>\n",
              "      <td>building street profiles building street 20 sh...</td>\n",
              "      <td>2 beds 2 baths 2 parking</td>\n",
              "      <td>apartment unit flat</td>\n",
              "    </tr>\n",
              "    <tr>\n",
              "      <th>7</th>\n",
              "      <td>abbotsford</td>\n",
              "      <td>primary secondary private government school ca...</td>\n",
              "      <td>street profile marine pde abbotsford vic 3067 ...</td>\n",
              "      <td>3 beds 1 bath 2 parking</td>\n",
              "      <td>house</td>\n",
              "    </tr>\n",
              "    <tr>\n",
              "      <th>...</th>\n",
              "      <td>...</td>\n",
              "      <td>...</td>\n",
              "      <td>...</td>\n",
              "      <td>...</td>\n",
              "      <td>...</td>\n",
              "    </tr>\n",
              "    <tr>\n",
              "      <th>2096</th>\n",
              "      <td>airport west</td>\n",
              "      <td>primary secondary private government school ca...</td>\n",
              "      <td>street profile victory rd airport west vic 304...</td>\n",
              "      <td>3 beds 2 baths 1 parking 419m</td>\n",
              "      <td>house</td>\n",
              "    </tr>\n",
              "    <tr>\n",
              "      <th>2097</th>\n",
              "      <td>airport west</td>\n",
              "      <td>primary secondary private government school ca...</td>\n",
              "      <td>street profile marshall rd airport west vic 30...</td>\n",
              "      <td>4 beds 1 bath 2 parking</td>\n",
              "      <td>house</td>\n",
              "    </tr>\n",
              "    <tr>\n",
              "      <th>2098</th>\n",
              "      <td>airport west</td>\n",
              "      <td>primary secondary private government school ca...</td>\n",
              "      <td>street profile clydesdale rd airport west vic ...</td>\n",
              "      <td>3 beds 2 baths 2 parking</td>\n",
              "      <td>townhouse</td>\n",
              "    </tr>\n",
              "    <tr>\n",
              "      <th>2099</th>\n",
              "      <td>airport west</td>\n",
              "      <td>primary secondary private government school ca...</td>\n",
              "      <td>building street profiles building street 4 kit...</td>\n",
              "      <td>2 beds 2 baths 1 parking</td>\n",
              "      <td>apartment unit flat</td>\n",
              "    </tr>\n",
              "    <tr>\n",
              "      <th>2100</th>\n",
              "      <td>airport west</td>\n",
              "      <td>primary secondary private government school ca...</td>\n",
              "      <td>street profile thomas st airport west vic 3042...</td>\n",
              "      <td>3 beds 2 baths 1 parking 590m</td>\n",
              "      <td>house</td>\n",
              "    </tr>\n",
              "  </tbody>\n",
              "</table>\n",
              "<p>1213 rows × 5 columns</p>\n",
              "</div>"
            ],
            "text/plain": [
              "              Suburb  ...                 Type\n",
              "3       abbotsford    ...                house\n",
              "4       abbotsford    ...  apartment unit flat\n",
              "5       abbotsford    ...                house\n",
              "6       abbotsford    ...  apartment unit flat\n",
              "7       abbotsford    ...                house\n",
              "...              ...  ...                  ...\n",
              "2096  airport west    ...                house\n",
              "2097  airport west    ...                house\n",
              "2098  airport west    ...            townhouse\n",
              "2099  airport west    ...  apartment unit flat\n",
              "2100  airport west    ...                house\n",
              "\n",
              "[1213 rows x 5 columns]"
            ]
          },
          "metadata": {
            "tags": []
          },
          "execution_count": 35
        }
      ]
    },
    {
      "cell_type": "markdown",
      "metadata": {
        "id": "CB09si1Cst8E"
      },
      "source": [
        "Explaratory Data Analysis"
      ]
    },
    {
      "cell_type": "code",
      "metadata": {
        "id": "G6jqopasMYVu",
        "outputId": "c7d892c9-00c2-4008-ebb2-d1d8445ab450",
        "colab": {
          "base_uri": "https://localhost:8080/",
          "height": 440
        }
      },
      "source": [
        "#Plotting house price against the type of house\n",
        "print(house_data['Type'].unique())\n",
        "df = house_data.groupby('Type')['Price'].mean()\n",
        "df.plot.bar()"
      ],
      "execution_count": null,
      "outputs": [
        {
          "output_type": "stream",
          "text": [
            "['house' 'apartment unit flat' 'townhouse' 'vacant land'\n",
            " 'new apartments plan' 'villa' 'terrace']\n"
          ],
          "name": "stdout"
        },
        {
          "output_type": "execute_result",
          "data": {
            "text/plain": [
              "<matplotlib.axes._subplots.AxesSubplot at 0x7fbdc7e139b0>"
            ]
          },
          "metadata": {
            "tags": []
          },
          "execution_count": 36
        },
        {
          "output_type": "display_data",
          "data": {
            "image/png": "[encoded data removed]",
            "text/plain": [
              "<Figure size 432x288 with 1 Axes>"
            ]
          },
          "metadata": {
            "tags": [],
            "needs_background": "light"
          }
        }
      ]
    },
    {
      "cell_type": "code",
      "metadata": {
        "id": "tKOzNE2d7DeA",
        "outputId": "be5b7fd4-6e4b-432d-9e30-4e5ebb625372",
        "colab": {
          "base_uri": "https://localhost:8080/",
          "height": 363
        }
      },
      "source": [
        "#PLotting house price against the suburb name\n",
        "df = house_data.groupby('Suburb')['Price'].mean()\n",
        "df.plot.bar()"
      ],
      "execution_count": null,
      "outputs": [
        {
          "output_type": "execute_result",
          "data": {
            "text/plain": [
              "<matplotlib.axes._subplots.AxesSubplot at 0x7fbdc7d8e630>"
            ]
          },
          "metadata": {
            "tags": []
          },
          "execution_count": 37
        },
        {
          "output_type": "display_data",
          "data": {
            "image/png": "[encoded data removed]",
            "text/plain": [
              "<Figure size 432x288 with 1 Axes>"
            ]
          },
          "metadata": {
            "tags": [],
            "needs_background": "light"
          }
        }
      ]
    },
    {
      "cell_type": "markdown",
      "metadata": {
        "id": "P5T4iLFotK0t"
      },
      "source": [
        "Feature Extracting"
      ]
    },
    {
      "cell_type": "code",
      "metadata": {
        "id": "EcSd-Y_SNOD5",
        "outputId": "569f234d-7700-49b6-ebb9-3ac17795d79a",
        "colab": {
          "base_uri": "https://localhost:8080/",
          "height": 35
        }
      },
      "source": [
        "house_data.Amenities[30] "
      ],
      "execution_count": null,
      "outputs": [
        {
          "output_type": "execute_result",
          "data": {
            "application/vnd.google.colaboratory.intrinsic+json": {
              "type": "string"
            },
            "text/plain": [
              "'3 beds 2 baths 2 parking'"
            ]
          },
          "metadata": {
            "tags": []
          },
          "execution_count": 38
        }
      ]
    },
    {
      "cell_type": "code",
      "metadata": {
        "id": "kROqUUdJC8s4"
      },
      "source": [
        "#extracting the number of baths/beds/parkings and storing them as seperate columns \n",
        "regex = r'(?P<beds>\\d)\\sbeds?\\s(?P<bath>\\d+)\\sbaths?\\s?(?P<parking>\\d)?'\n",
        "house_data = pd.concat([house_data, house_data['Amenities'].str.extract(regex)], axis=1)"
      ],
      "execution_count": null,
      "outputs": []
    },
    {
      "cell_type": "code",
      "metadata": {
        "id": "nK2sLlJbDMuf"
      },
      "source": [
        "#Fill the null values in the parking column == 0\n",
        "house_data['parking'] = house_data['parking'].fillna(0)"
      ],
      "execution_count": null,
      "outputs": []
    },
    {
      "cell_type": "code",
      "metadata": {
        "id": "ZE39IDaiLV0g",
        "outputId": "a6d580be-22ac-417a-986e-5bc5ffc3da6f",
        "colab": {
          "base_uri": "https://localhost:8080/",
          "height": 406
        }
      },
      "source": [
        "features_col = ['Suburb', 'Type', 'beds', 'bath', 'parking']\n",
        "house_data[features_col]"
      ],
      "execution_count": null,
      "outputs": [
        {
          "output_type": "execute_result",
          "data": {
            "text/html": [
              "<div>\n",
              "<style scoped>\n",
              "    .dataframe tbody tr th:only-of-type {\n",
              "        vertical-align: middle;\n",
              "    }\n",
              "\n",
              "    .dataframe tbody tr th {\n",
              "        vertical-align: top;\n",
              "    }\n",
              "\n",
              "    .dataframe thead th {\n",
              "        text-align: right;\n",
              "    }\n",
              "</style>\n",
              "<table border=\"1\" class=\"dataframe\">\n",
              "  <thead>\n",
              "    <tr style=\"text-align: right;\">\n",
              "      <th></th>\n",
              "      <th>Suburb</th>\n",
              "      <th>Type</th>\n",
              "      <th>beds</th>\n",
              "      <th>bath</th>\n",
              "      <th>parking</th>\n",
              "    </tr>\n",
              "  </thead>\n",
              "  <tbody>\n",
              "    <tr>\n",
              "      <th>3</th>\n",
              "      <td>abbotsford</td>\n",
              "      <td>house</td>\n",
              "      <td>3</td>\n",
              "      <td>1</td>\n",
              "      <td>0</td>\n",
              "    </tr>\n",
              "    <tr>\n",
              "      <th>4</th>\n",
              "      <td>abbotsford</td>\n",
              "      <td>apartment unit flat</td>\n",
              "      <td>1</td>\n",
              "      <td>1</td>\n",
              "      <td>1</td>\n",
              "    </tr>\n",
              "    <tr>\n",
              "      <th>5</th>\n",
              "      <td>abbotsford</td>\n",
              "      <td>house</td>\n",
              "      <td>3</td>\n",
              "      <td>1</td>\n",
              "      <td>0</td>\n",
              "    </tr>\n",
              "    <tr>\n",
              "      <th>6</th>\n",
              "      <td>abbotsford</td>\n",
              "      <td>apartment unit flat</td>\n",
              "      <td>2</td>\n",
              "      <td>2</td>\n",
              "      <td>2</td>\n",
              "    </tr>\n",
              "    <tr>\n",
              "      <th>7</th>\n",
              "      <td>abbotsford</td>\n",
              "      <td>house</td>\n",
              "      <td>3</td>\n",
              "      <td>1</td>\n",
              "      <td>2</td>\n",
              "    </tr>\n",
              "    <tr>\n",
              "      <th>...</th>\n",
              "      <td>...</td>\n",
              "      <td>...</td>\n",
              "      <td>...</td>\n",
              "      <td>...</td>\n",
              "      <td>...</td>\n",
              "    </tr>\n",
              "    <tr>\n",
              "      <th>2096</th>\n",
              "      <td>airport west</td>\n",
              "      <td>house</td>\n",
              "      <td>3</td>\n",
              "      <td>2</td>\n",
              "      <td>1</td>\n",
              "    </tr>\n",
              "    <tr>\n",
              "      <th>2097</th>\n",
              "      <td>airport west</td>\n",
              "      <td>house</td>\n",
              "      <td>4</td>\n",
              "      <td>1</td>\n",
              "      <td>2</td>\n",
              "    </tr>\n",
              "    <tr>\n",
              "      <th>2098</th>\n",
              "      <td>airport west</td>\n",
              "      <td>townhouse</td>\n",
              "      <td>3</td>\n",
              "      <td>2</td>\n",
              "      <td>2</td>\n",
              "    </tr>\n",
              "    <tr>\n",
              "      <th>2099</th>\n",
              "      <td>airport west</td>\n",
              "      <td>apartment unit flat</td>\n",
              "      <td>2</td>\n",
              "      <td>2</td>\n",
              "      <td>1</td>\n",
              "    </tr>\n",
              "    <tr>\n",
              "      <th>2100</th>\n",
              "      <td>airport west</td>\n",
              "      <td>house</td>\n",
              "      <td>3</td>\n",
              "      <td>2</td>\n",
              "      <td>1</td>\n",
              "    </tr>\n",
              "  </tbody>\n",
              "</table>\n",
              "<p>1213 rows × 5 columns</p>\n",
              "</div>"
            ],
            "text/plain": [
              "              Suburb                 Type beds bath parking\n",
              "3       abbotsford                  house    3    1       0\n",
              "4       abbotsford    apartment unit flat    1    1       1\n",
              "5       abbotsford                  house    3    1       0\n",
              "6       abbotsford    apartment unit flat    2    2       2\n",
              "7       abbotsford                  house    3    1       2\n",
              "...              ...                  ...  ...  ...     ...\n",
              "2096  airport west                  house    3    2       1\n",
              "2097  airport west                  house    4    1       2\n",
              "2098  airport west              townhouse    3    2       2\n",
              "2099  airport west    apartment unit flat    2    2       1\n",
              "2100  airport west                  house    3    2       1\n",
              "\n",
              "[1213 rows x 5 columns]"
            ]
          },
          "metadata": {
            "tags": []
          },
          "execution_count": 45
        }
      ]
    }
  ]
}