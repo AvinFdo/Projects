{
 "cells": [
  {
   "cell_type": "code",
   "execution_count": 193,
   "metadata": {},
   "outputs": [
    {
     "name": "stdout",
     "output_type": "stream",
     "text": [
      "(5419, 12)\n"
     ]
    },
    {
     "data": {
      "text/html": [
       "<div>\n",
       "<style scoped>\n",
       "    .dataframe tbody tr th:only-of-type {\n",
       "        vertical-align: middle;\n",
       "    }\n",
       "\n",
       "    .dataframe tbody tr th {\n",
       "        vertical-align: top;\n",
       "    }\n",
       "\n",
       "    .dataframe thead th {\n",
       "        text-align: right;\n",
       "    }\n",
       "</style>\n",
       "<table border=\"1\" class=\"dataframe\">\n",
       "  <thead>\n",
       "    <tr style=\"text-align: right;\">\n",
       "      <th></th>\n",
       "      <th>Suburb</th>\n",
       "      <th>Address</th>\n",
       "      <th>Description</th>\n",
       "      <th>Price</th>\n",
       "      <th>Amenities</th>\n",
       "      <th>Type</th>\n",
       "      <th>Date</th>\n",
       "      <th>Insights</th>\n",
       "      <th>Schools</th>\n",
       "      <th>URL</th>\n",
       "      <th>Profile</th>\n",
       "      <th>Performance</th>\n",
       "    </tr>\n",
       "  </thead>\n",
       "  <tbody>\n",
       "    <tr>\n",
       "      <th>1</th>\n",
       "      <td>Abbotsford-vic-3067</td>\n",
       "      <td>NaN</td>\n",
       "      <td>Stylish living, spectacular views\\nEnviable vi...</td>\n",
       "      <td>SOLD - $610,000</td>\n",
       "      <td>2\\nBeds\\n2\\nBaths\\n1\\nParking</td>\n",
       "      <td>Apartment / Unit / Flat</td>\n",
       "      <td>Listing sold by advertiser 10th August 2020</td>\n",
       "      <td>First listed on 20 July, this unit has been on...</td>\n",
       "      <td>ALL\\nPRIMARY\\nSECONDARY\\nPRIVATE\\nGOVERNMENT S...</td>\n",
       "      <td>https://www.domain.com.au/627-20-shamrock-stre...</td>\n",
       "      <td>Building &amp; Street Profiles\\nBUILDING\\nSTREET\\n...</td>\n",
       "      <td>Insights for 2 bedroom units in Abbotsford\\nMa...</td>\n",
       "    </tr>\n",
       "    <tr>\n",
       "      <th>2</th>\n",
       "      <td>Abbotsford-vic-3067</td>\n",
       "      <td>NaN</td>\n",
       "      <td>A charming Victorian relishes its new role\\nPe...</td>\n",
       "      <td>SOLD - Price Withheld</td>\n",
       "      <td>3\\nBeds\\n1\\nBath\\n−</td>\n",
       "      <td>House</td>\n",
       "      <td>Listing sold by advertiser 7th August 2020</td>\n",
       "      <td>71 Yarra Street, Abbotsford VIC 3067 was last ...</td>\n",
       "      <td>ALL\\nPRIMARY\\nSECONDARY\\nPRIVATE\\nGOVERNMENT S...</td>\n",
       "      <td>https://www.domain.com.au/71-yarra-street-abbo...</td>\n",
       "      <td>School Catchment Zones for 71 Yarra Street\\nAL...</td>\n",
       "      <td>Insights for 3 bedroom houses in Abbotsford\\nM...</td>\n",
       "    </tr>\n",
       "    <tr>\n",
       "      <th>3</th>\n",
       "      <td>Abbotsford-vic-3067</td>\n",
       "      <td>71 Yarra Street Abbotsford VIC 3067</td>\n",
       "      <td>A charming Victorian relishes its new role\\nPe...</td>\n",
       "      <td>SOLD - Price Withheld</td>\n",
       "      <td>3\\nBeds\\n1\\nBath\\n−</td>\n",
       "      <td>House</td>\n",
       "      <td>Listing sold by advertiser 7th August 2020</td>\n",
       "      <td>71 Yarra Street, Abbotsford VIC 3067 was last ...</td>\n",
       "      <td>ALL\\nPRIMARY\\nSECONDARY\\nPRIVATE\\nGOVERNMENT S...</td>\n",
       "      <td>https://www.domain.com.au/71-yarra-street-abbo...</td>\n",
       "      <td>Street Profile\\nYarra St, \\nAbbotsford VIC 306...</td>\n",
       "      <td>Insights for 3 bedroom houses in Abbotsford\\nM...</td>\n",
       "    </tr>\n",
       "    <tr>\n",
       "      <th>4</th>\n",
       "      <td>Abbotsford-vic-3067</td>\n",
       "      <td>411/4 Acacia Place Abbotsford VIC 3067</td>\n",
       "      <td>BEST VALUE IN ABBOTSFORD PRICED TO SELL\\nPerfe...</td>\n",
       "      <td>SOLD - Price Withheld</td>\n",
       "      <td>1\\nBed\\n1\\nBath\\n1\\nParking</td>\n",
       "      <td>Apartment / Unit / Flat</td>\n",
       "      <td>Listing sold by advertiser 6th August 2020</td>\n",
       "      <td>39 other 1 bedroom unit in Abbotsford have rec...</td>\n",
       "      <td>ALL\\nPRIMARY\\nSECONDARY\\nPRIVATE\\nGOVERNMENT S...</td>\n",
       "      <td>https://www.domain.com.au/411-4-acacia-place-a...</td>\n",
       "      <td>Building &amp; Street Profiles\\nBUILDING\\nSTREET\\n...</td>\n",
       "      <td>Insights for 1 bedroom units in Abbotsford\\nMa...</td>\n",
       "    </tr>\n",
       "    <tr>\n",
       "      <th>5</th>\n",
       "      <td>Abbotsford-vic-3067</td>\n",
       "      <td>156 Charles Street Abbotsford VIC 3067</td>\n",
       "      <td>THE ULTIMATE PROJECT BUT NOT HABITABLE NOW\\n**...</td>\n",
       "      <td>SOLD - $966,000</td>\n",
       "      <td>3\\nBeds\\n1\\nBath\\n−</td>\n",
       "      <td>House</td>\n",
       "      <td>Listing sold by advertiser 5th August 2020</td>\n",
       "      <td>First listed on 23 July, this house has been o...</td>\n",
       "      <td>ALL\\nPRIMARY\\nSECONDARY\\nPRIVATE\\nGOVERNMENT S...</td>\n",
       "      <td>https://www.domain.com.au/156-charles-street-a...</td>\n",
       "      <td>Street Profile\\nCharles St, \\nAbbotsford VIC 3...</td>\n",
       "      <td>Insights for 3 bedroom houses in Abbotsford\\nM...</td>\n",
       "    </tr>\n",
       "  </tbody>\n",
       "</table>\n",
       "</div>"
      ],
      "text/plain": [
       "                Suburb                                 Address  \\\n",
       "1  Abbotsford-vic-3067                                     NaN   \n",
       "2  Abbotsford-vic-3067                                     NaN   \n",
       "3  Abbotsford-vic-3067     71 Yarra Street Abbotsford VIC 3067   \n",
       "4  Abbotsford-vic-3067  411/4 Acacia Place Abbotsford VIC 3067   \n",
       "5  Abbotsford-vic-3067  156 Charles Street Abbotsford VIC 3067   \n",
       "\n",
       "                                         Description                  Price  \\\n",
       "1  Stylish living, spectacular views\\nEnviable vi...        SOLD - $610,000   \n",
       "2  A charming Victorian relishes its new role\\nPe...  SOLD - Price Withheld   \n",
       "3  A charming Victorian relishes its new role\\nPe...  SOLD - Price Withheld   \n",
       "4  BEST VALUE IN ABBOTSFORD PRICED TO SELL\\nPerfe...  SOLD - Price Withheld   \n",
       "5  THE ULTIMATE PROJECT BUT NOT HABITABLE NOW\\n**...        SOLD - $966,000   \n",
       "\n",
       "                       Amenities                     Type  \\\n",
       "1  2\\nBeds\\n2\\nBaths\\n1\\nParking  Apartment / Unit / Flat   \n",
       "2            3\\nBeds\\n1\\nBath\\n−                    House   \n",
       "3            3\\nBeds\\n1\\nBath\\n−                    House   \n",
       "4    1\\nBed\\n1\\nBath\\n1\\nParking  Apartment / Unit / Flat   \n",
       "5            3\\nBeds\\n1\\nBath\\n−                    House   \n",
       "\n",
       "                                          Date  \\\n",
       "1  Listing sold by advertiser 10th August 2020   \n",
       "2   Listing sold by advertiser 7th August 2020   \n",
       "3   Listing sold by advertiser 7th August 2020   \n",
       "4   Listing sold by advertiser 6th August 2020   \n",
       "5   Listing sold by advertiser 5th August 2020   \n",
       "\n",
       "                                            Insights  \\\n",
       "1  First listed on 20 July, this unit has been on...   \n",
       "2  71 Yarra Street, Abbotsford VIC 3067 was last ...   \n",
       "3  71 Yarra Street, Abbotsford VIC 3067 was last ...   \n",
       "4  39 other 1 bedroom unit in Abbotsford have rec...   \n",
       "5  First listed on 23 July, this house has been o...   \n",
       "\n",
       "                                             Schools  \\\n",
       "1  ALL\\nPRIMARY\\nSECONDARY\\nPRIVATE\\nGOVERNMENT S...   \n",
       "2  ALL\\nPRIMARY\\nSECONDARY\\nPRIVATE\\nGOVERNMENT S...   \n",
       "3  ALL\\nPRIMARY\\nSECONDARY\\nPRIVATE\\nGOVERNMENT S...   \n",
       "4  ALL\\nPRIMARY\\nSECONDARY\\nPRIVATE\\nGOVERNMENT S...   \n",
       "5  ALL\\nPRIMARY\\nSECONDARY\\nPRIVATE\\nGOVERNMENT S...   \n",
       "\n",
       "                                                 URL  \\\n",
       "1  https://www.domain.com.au/627-20-shamrock-stre...   \n",
       "2  https://www.domain.com.au/71-yarra-street-abbo...   \n",
       "3  https://www.domain.com.au/71-yarra-street-abbo...   \n",
       "4  https://www.domain.com.au/411-4-acacia-place-a...   \n",
       "5  https://www.domain.com.au/156-charles-street-a...   \n",
       "\n",
       "                                             Profile  \\\n",
       "1  Building & Street Profiles\\nBUILDING\\nSTREET\\n...   \n",
       "2  School Catchment Zones for 71 Yarra Street\\nAL...   \n",
       "3  Street Profile\\nYarra St, \\nAbbotsford VIC 306...   \n",
       "4  Building & Street Profiles\\nBUILDING\\nSTREET\\n...   \n",
       "5  Street Profile\\nCharles St, \\nAbbotsford VIC 3...   \n",
       "\n",
       "                                         Performance  \n",
       "1  Insights for 2 bedroom units in Abbotsford\\nMa...  \n",
       "2  Insights for 3 bedroom houses in Abbotsford\\nM...  \n",
       "3  Insights for 3 bedroom houses in Abbotsford\\nM...  \n",
       "4  Insights for 1 bedroom units in Abbotsford\\nMa...  \n",
       "5  Insights for 3 bedroom houses in Abbotsford\\nM...  "
      ]
     },
     "execution_count": 193,
     "metadata": {},
     "output_type": "execute_result"
    }
   ],
   "source": [
    "import pandas as pd\n",
    "data = pd.read_csv(\"databackup.csv\").drop([0])\n",
    "print(data.shape)\n",
    "data.head()"
   ]
  },
  {
   "cell_type": "code",
   "execution_count": 171,
   "metadata": {},
   "outputs": [
    {
     "name": "stdout",
     "output_type": "stream",
     "text": [
      "0\n",
      "(1729, 12)\n"
     ]
    },
    {
     "data": {
      "text/plain": [
       "Suburb           0\n",
       "Address        521\n",
       "Description      0\n",
       "Price            0\n",
       "Amenities        2\n",
       "Type             0\n",
       "Date             0\n",
       "Insights         0\n",
       "Schools          0\n",
       "URL              0\n",
       "Profile        173\n",
       "Performance      0\n",
       "dtype: int64"
      ]
     },
     "execution_count": 171,
     "metadata": {},
     "output_type": "execute_result"
    }
   ],
   "source": [
    "#Checking for duplicates\n",
    "print(data.duplicated(\"URL\").sum())\n",
    "\n",
    "#Dropping duplicates\n",
    "data = data.drop_duplicates(\"URL\", keep=\"first\")\n",
    "print(data.shape)\n",
    "\n",
    "data.isna().sum()"
   ]
  },
  {
   "cell_type": "code",
   "execution_count": 172,
   "metadata": {},
   "outputs": [
    {
     "data": {
      "text/plain": [
       "Suburb           0\n",
       "Address          0\n",
       "Description      0\n",
       "Price            0\n",
       "Amenities        2\n",
       "Type             0\n",
       "Date             0\n",
       "Insights         0\n",
       "Schools          0\n",
       "URL              0\n",
       "Profile        173\n",
       "Performance      0\n",
       "dtype: int64"
      ]
     },
     "execution_count": 172,
     "metadata": {},
     "output_type": "execute_result"
    }
   ],
   "source": [
    "#Filling in missing addresses using information from the URL\n",
    "no_address = data[data.Address.isna()].reset_index(drop=True)\n",
    "for row in range(0, no_address.shape[0]):\n",
    "    no_address[\"Address\"][row] = \" \".join(no_address.URL[row].split(\"/\")[3].split(\"-\")[:-1])\n",
    "    try:\n",
    "        int(no_address.Address[row].split()[1])\n",
    "        no_address[\"Address\"][row] = \"/\".join(no_address.Address[row].split()[:2]) + \" \" + \" \".join(no_address.Address[row].split()[2:])\n",
    "    except(ValueError):\n",
    "        pass\n",
    "\n",
    "data = data.append(no_address).drop_duplicates(\"URL\", keep=\"last\")\n",
    "data.isna().sum()"
   ]
  },
  {
   "cell_type": "code",
   "execution_count": 192,
   "metadata": {},
   "outputs": [
    {
     "data": {
      "text/plain": [
       "'10th August 2020'"
      ]
     },
     "execution_count": 192,
     "metadata": {},
     "output_type": "execute_result"
    }
   ],
   "source": [
    "#data[\"Price\"][0].split(\"$\")[-1]\n",
    "\" \".join(data[\"Date\"][0].split(\" \")[-3:])"
   ]
  },
  {
   "cell_type": "code",
   "execution_count": 157,
   "metadata": {},
   "outputs": [],
   "source": [
    "no_address = data[data.Address.isna()].reset_index(drop=True)"
   ]
  },
  {
   "cell_type": "code",
   "execution_count": 158,
   "metadata": {},
   "outputs": [],
   "source": [
    "no_address = data[data.Address.isna()].reset_index(drop=True)\n",
    "for row in range(0, no_address.shape[0]):\n",
    "    no_address[\"Address\"][row] = \" \".join(no_address.URL[row].split(\"/\")[3].split(\"-\")[:-1])\n",
    "    try:\n",
    "        int(no_address.Address[row].split()[1])\n",
    "        no_address[\"Address\"][row] = \"/\".join(no_address.Address[row].split()[:2]) + \" \" + \" \".join(no_address.Address[row].split()[2:])\n",
    "    except(ValueError):\n",
    "        pass"
   ]
  },
  {
   "cell_type": "code",
   "execution_count": 114,
   "metadata": {},
   "outputs": [],
   "source": [
    "no_address[\"Address\"][0] = \" \".join(no_address.URL[n].split(\"/\")[0].split(\"-\")[:-1])"
   ]
  },
  {
   "cell_type": "code",
   "execution_count": 160,
   "metadata": {},
   "outputs": [
    {
     "data": {
      "text/plain": [
       "(334, 12)"
      ]
     },
     "execution_count": 160,
     "metadata": {},
     "output_type": "execute_result"
    }
   ],
   "source": [
    "no_address.shape"
   ]
  },
  {
   "cell_type": "code",
   "execution_count": 134,
   "metadata": {},
   "outputs": [],
   "source": [
    "try:\n",
    "    int(no_address.Address[0].split()[1])\n",
    "    \n",
    "except(ValueError):\n",
    "    pass"
   ]
  },
  {
   "cell_type": "code",
   "execution_count": 149,
   "metadata": {},
   "outputs": [
    {
     "data": {
      "text/plain": [
       "'627/20 shamrock street abbotsford vic 3067'"
      ]
     },
     "execution_count": 149,
     "metadata": {},
     "output_type": "execute_result"
    }
   ],
   "source": [
    "\"/\".join(no_address.Address[0].split()[:2]) + \" \" + \" \".join(no_address.Address[0].split()[2:]) "
   ]
  },
  {
   "cell_type": "code",
   "execution_count": 191,
   "metadata": {},
   "outputs": [
    {
     "data": {
      "text/plain": [
       "datetime.date(2020, 8, 10)"
      ]
     },
     "execution_count": 191,
     "metadata": {},
     "output_type": "execute_result"
    }
   ],
   "source": [
    "import datetime\n",
    "datetime.datetime.strptime(\" \".join(data[\"Date\"][0].split(\" \")[-3:]), '%dth %B %Y').date()"
   ]
  }
 ],
 "metadata": {
  "kernelspec": {
   "display_name": "Python 3",
   "language": "python",
   "name": "python3"
  },
  "language_info": {
   "codemirror_mode": {
    "name": "ipython",
    "version": 3
   },
   "file_extension": ".py",
   "mimetype": "text/x-python",
   "name": "python",
   "nbconvert_exporter": "python",
   "pygments_lexer": "ipython3",
   "version": "3.8.3"
  }
 },
 "nbformat": 4,
 "nbformat_minor": 4
}
