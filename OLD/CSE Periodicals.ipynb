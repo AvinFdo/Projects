{
 "cells": [
  {
   "cell_type": "code",
   "execution_count": 1,
   "metadata": {},
   "outputs": [],
   "source": [
    "import wget\n",
    "import os\n",
    "from selenium import webdriver\n",
    "\n",
    "from selenium.webdriver.support.ui import WebDriverWait\n",
    "from selenium.webdriver.support import expected_conditions as EC\n",
    "from selenium.webdriver.common.by import By\n",
    "from selenium.common.exceptions import TimeoutException"
   ]
  },
  {
   "cell_type": "code",
   "execution_count": 2,
   "metadata": {},
   "outputs": [],
   "source": [
    "PATH = r'C:\\Program Files (x86)\\chromedriver.exe'\n",
    "driver = webdriver.Chrome(PATH)"
   ]
  },
  {
   "cell_type": "code",
   "execution_count": 5,
   "metadata": {},
   "outputs": [],
   "source": [
    "for period in [\"cseDaily\", \"cseWeekly\", \"cseMonthly\", \"quarterlySummary\"]:\n",
    "\n",
    "    page_link = \"https://www.cse.lk/home/\" + period\n",
    "    driver.get(page_link)\n",
    "    \n",
    "    try:\n",
    "        myElem = WebDriverWait(driver, 60).until(EC.presence_of_element_located((By.XPATH, '/html/body/div/div/ui-view/section/section[2]/div/div/div/div/div/div/div[1]/div/div/a')))\n",
    "    \n",
    "    except TimeoutException:\n",
    "        print (\"Time exceeded\")\n",
    "        \n",
    "    for num in range(2,7):\n",
    "        try:\n",
    "            link_statement = driver.find_element_by_xpath('/html/body/div/div/ui-view/section/section[2]/div/div/div/div/div/div/div[2]/div/div[' + str(num) + ']/a')\n",
    "            href = link_statement.get_attribute('href')\n",
    "            path = \"C:/Users/Avin/Downloads/\" + period + \"/\" + href.rsplit(\"_\")[-1]\n",
    "            \n",
    "            if os.path.exists(path):\n",
    "                pass\n",
    "            else:\n",
    "                wget.download(href, path)\n",
    "        except:\n",
    "            pass\n",
    "\n",
    "    link_statement = driver.find_element_by_xpath('/html/body/div/div/ui-view/section/section[2]/div/div/div/div/div/div/div[1]/div/div/a')\n",
    "    href = link_statement.get_attribute('href')\n",
    "    path = \"C:/Users/Avin/Downloads/\" + period + \"/\" + href.rsplit(\"_\")[-1]\n",
    "    \n",
    "    if os.path.exists(path):\n",
    "        pass\n",
    "    else:\n",
    "        wget.download(href, path)"
   ]
  }
 ],
 "metadata": {
  "kernelspec": {
   "display_name": "Python 3",
   "language": "python",
   "name": "python3"
  },
  "language_info": {
   "codemirror_mode": {
    "name": "ipython",
    "version": 3
   },
   "file_extension": ".py",
   "mimetype": "text/x-python",
   "name": "python",
   "nbconvert_exporter": "python",
   "pygments_lexer": "ipython3",
   "version": "3.8.3"
  }
 },
 "nbformat": 4,
 "nbformat_minor": 4
}
